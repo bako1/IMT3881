{
 "cells": [
  {
   "cell_type": "markdown",
   "metadata": {},
   "source": [
    "# Arbeidskrav 1: Python"
   ]
  },
  {
   "cell_type": "markdown",
   "metadata": {},
   "source": [
    "## Grunnleggende Python\n",
    "\n",
    "Gitt følgende `dict`"
   ]
  },
  {
   "cell_type": "code",
   "execution_count": 1,
   "metadata": {},
   "outputs": [],
   "source": [
    "sko_størrelser = {'Ivar' : 43, 'Andreas' : 40, 'Maria' : 36}"
   ]
  },
  {
   "cell_type": "markdown",
   "metadata": {},
   "source": [
    "Lag en Python-kode som skriver ut alle nøklene (navnene), alle skostørrelsene, og en som legger sammen skostørrelsene på mest mulig effektiv måte (hint: gå via en numpy array)."
   ]
  },
  {
   "cell_type": "code",
   "execution_count": null,
   "metadata": {},
   "outputs": [],
   "source": []
  },
  {
   "cell_type": "markdown",
   "metadata": {},
   "source": [
    "Lag en Python-kode som skriver ut en setning baklengs ord for ord (f.eks. slik: «slik blir denne setningen» blir «setningen denne blir slik»). Les Pythons dokumentasjon av strenger, og bruk `split`, `join` og vanlige listefunksjonalitet. Kan fint gjøres på én linje om man skulle ønske det."
   ]
  },
  {
   "cell_type": "code",
   "execution_count": null,
   "metadata": {},
   "outputs": [],
   "source": []
  },
  {
   "cell_type": "markdown",
   "metadata": {},
   "source": [
    "## Funksjoner og plotting\n",
    "\n",
    "Definer funksjonen $$f(x) = sin(x) + cos(x)$$ som en Python-funksjon, og plot den for $x\\in[0, 2\\pi]$."
   ]
  },
  {
   "cell_type": "code",
   "execution_count": null,
   "metadata": {},
   "outputs": [],
   "source": []
  },
  {
   "cell_type": "markdown",
   "metadata": {},
   "source": [
    "Flytt funksjonen inn i modulen `modul`, hent den derfra og plot den på nytt."
   ]
  },
  {
   "cell_type": "code",
   "execution_count": null,
   "metadata": {},
   "outputs": [],
   "source": []
  },
  {
   "cell_type": "markdown",
   "metadata": {},
   "source": [
    "Lag en test av funksjonen og sørg for at den kjøres. Bruk `coverage` og `make` til å se visuelt at koden er blitt testet."
   ]
  },
  {
   "cell_type": "markdown",
   "metadata": {},
   "source": [
    "## Slicing og views\n",
    "\n",
    "Lag en numpy-array `f` med verdier av $f(x)$ for $x\\in[0, 2\\pi]$. Definer numpy-arrayen `g` (én kortere enn `f`) ved at `g[i] = f[i + 1] - f[i]`. Bruk en for-løkke til å beregne arrayen `g`."
   ]
  },
  {
   "cell_type": "code",
   "execution_count": null,
   "metadata": {},
   "outputs": [],
   "source": []
  },
  {
   "cell_type": "markdown",
   "metadata": {},
   "source": [
    "Bruk slicing tilå  definere to forskjellige views av `f` – ett for `f[i + 1]` og ett for `f[i]`, og bruk disse til å beregne arrayen `g` uten bruk av for-løkke."
   ]
  }
 ],
 "metadata": {
  "kernelspec": {
   "display_name": "Python 3",
   "language": "python",
   "name": "python3"
  },
  "language_info": {
   "codemirror_mode": {
    "name": "ipython",
    "version": 3
   },
   "file_extension": ".py",
   "mimetype": "text/x-python",
   "name": "python",
   "nbconvert_exporter": "python",
   "pygments_lexer": "ipython3",
   "version": "3.6.9"
  }
 },
 "nbformat": 4,
 "nbformat_minor": 4
}
