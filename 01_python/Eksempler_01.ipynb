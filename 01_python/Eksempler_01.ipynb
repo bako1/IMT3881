{
 "cells": [
  {
   "cell_type": "markdown",
   "metadata": {
    "slideshow": {
     "slide_type": "-"
    }
   },
   "source": [
    "# Introduksjon til Python\n",
    "\n",
    "Python er tolket («interpreted»), ikke kompilert. Man kan gi én og én kommando og få den utført umiddelbart."
   ]
  },
  {
   "cell_type": "markdown",
   "metadata": {},
   "source": [
    "## Variabler og typer\n",
    "\n",
    "Språket bruker dynamisk typing, også kjent som «duck type». Man både definerer og deklarerer en variabel ved å tilordne den en verdi (objekt)."
   ]
  },
  {
   "cell_type": "code",
   "execution_count": 1,
   "metadata": {},
   "outputs": [
    {
     "name": "stdout",
     "output_type": "stream",
     "text": [
      "3 <class 'int'>\n",
      "3.6 <class 'float'>\n",
      "python <class 'str'>\n",
      "False <class 'bool'>\n",
      "6.6 <class 'float'>\n",
      "python3\n"
     ]
    }
   ],
   "source": [
    "a = 3\n",
    "b = 3.6\n",
    "c = 'python'\n",
    "d = (a == b)\n",
    "print(a, type(a))\n",
    "print(b, type(b))\n",
    "print(c, type(c))\n",
    "print(d, type(d))\n",
    "print(a + b, type(a + b))\n",
    "print(c + str(a))"
   ]
  },
  {
   "cell_type": "markdown",
   "metadata": {},
   "source": [
    "For spesielt interesserte kan det være verdt å merke seg at alt, selv tallkonstanter, er objekter i Python."
   ]
  },
  {
   "cell_type": "code",
   "execution_count": 2,
   "metadata": {},
   "outputs": [
    {
     "name": "stdout",
     "output_type": "stream",
     "text": [
      "3\n",
      "7\n"
     ]
    }
   ],
   "source": [
    "print((-3).__abs__())\n",
    "print((3).__add__(4))"
   ]
  },
  {
   "cell_type": "markdown",
   "metadata": {},
   "source": [
    "## Lister, tupler og ordbøker\n",
    "\n",
    "Python har innebygde datatyper for ulike containere. De viktiste er `list`, `tuple` og `dict`.\n",
    "\n",
    "### `list` og `tuple`\n",
    "\n",
    "En `list`er en liste av objekter. De behøver ikke være av samme type. Et `tuple` ligner veldig på en liste, men er konstant og innholdet kan ikke endres."
   ]
  },
  {
   "cell_type": "code",
   "execution_count": 3,
   "metadata": {},
   "outputs": [
    {
     "name": "stdout",
     "output_type": "stream",
     "text": [
      "<class 'list'>\n",
      "1\n",
      "3\n",
      "[1, 2]\n",
      "[3, 2, 1]\n",
      "[1, 'tekst', 3]\n"
     ]
    }
   ],
   "source": [
    "a = [1, 2 ,3]\n",
    "print(type(a))\n",
    "print(a[0])\n",
    "print(a[-1])\n",
    "print(a[0:2])\n",
    "print(a[-1::-1])\n",
    "a[1] = 'tekst'\n",
    "print(a)"
   ]
  },
  {
   "cell_type": "markdown",
   "metadata": {},
   "source": [
    "En liste kan også f.eks. brukes som en stakk."
   ]
  },
  {
   "cell_type": "code",
   "execution_count": 4,
   "metadata": {},
   "outputs": [
    {
     "name": "stdout",
     "output_type": "stream",
     "text": [
      "[1, 'tekst', 3, '42']\n",
      "42\n",
      "[1, 'tekst', 3]\n"
     ]
    }
   ],
   "source": [
    "a.append('42')\n",
    "print(a)\n",
    "print(a.pop())\n",
    "print(a)"
   ]
  },
  {
   "cell_type": "markdown",
   "metadata": {},
   "source": [
    "Syntax for `tuple`:"
   ]
  },
  {
   "cell_type": "code",
   "execution_count": 5,
   "metadata": {},
   "outputs": [
    {
     "name": "stdout",
     "output_type": "stream",
     "text": [
      "<class 'tuple'>\n",
      "<class 'tuple'>\n",
      "1\n"
     ]
    }
   ],
   "source": [
    "a = 1, 2, 3\n",
    "print(type(a))\n",
    "b = (1, 2, 3)\n",
    "print(type(b))\n",
    "print(a[0])"
   ]
  },
  {
   "cell_type": "markdown",
   "metadata": {},
   "source": [
    "### `dict`\n",
    "\n",
    "En `dict` er en ordbok («dictionary»), eller det som i mange språk kalles en assosiativ tabell som består av en samling av attributt-verdi par (nøkkel, verdi) hvor hver nøkkel bare opptrer en gang i samlingen."
   ]
  },
  {
   "cell_type": "code",
   "execution_count": 6,
   "metadata": {},
   "outputs": [
    {
     "name": "stdout",
     "output_type": "stream",
     "text": [
      "35277\n",
      "{'Frode': 35191, 'Ivar': 35277, 'Erik': 35220}\n"
     ]
    }
   ],
   "source": [
    "tlf = {'Frode' : 35191, 'Ivar' : 35277}\n",
    "print(tlf['Ivar'])\n",
    "tlf['Erik'] = 35220\n",
    "print(tlf)"
   ]
  },
  {
   "cell_type": "markdown",
   "metadata": {},
   "source": [
    "## Kontrollstrukturer\n",
    "\n",
    "De viktigste kontrollstrukturene i Python er `if ... elif ... else`, `for ... in ...` og `while ...`. Blokker i koden defineres utelukkende med innrykk, så det benyttes ikke begin/end, {/} el.l."
   ]
  },
  {
   "cell_type": "code",
   "execution_count": 7,
   "metadata": {},
   "outputs": [
    {
     "name": "stdout",
     "output_type": "stream",
     "text": [
      "0\n",
      "a er null\n",
      "1\n",
      "a er én\n",
      "2\n",
      "a er hverken null eller én\n"
     ]
    }
   ],
   "source": [
    "for a in range(3):\n",
    "    print(a)\n",
    "    if a == 0:\n",
    "        print('a er null')\n",
    "    elif a == 1:\n",
    "        print('a er én')\n",
    "    else:\n",
    "        print('a er hverken null eller én')"
   ]
  },
  {
   "cell_type": "code",
   "execution_count": 8,
   "metadata": {},
   "outputs": [
    {
     "name": "stdout",
     "output_type": "stream",
     "text": [
      "0\n",
      "1\n",
      "2\n",
      "3\n",
      "4\n"
     ]
    }
   ],
   "source": [
    "a = 0\n",
    "while a < 5:\n",
    "    print(a)\n",
    "    a += 1"
   ]
  },
  {
   "cell_type": "markdown",
   "metadata": {},
   "source": [
    "En litt artig konstruksjon i Pyhon kalles «list comprehension»."
   ]
  },
  {
   "cell_type": "code",
   "execution_count": 9,
   "metadata": {},
   "outputs": [
    {
     "name": "stdout",
     "output_type": "stream",
     "text": [
      "[0, 1, 4, 9, 16]\n"
     ]
    }
   ],
   "source": [
    "a = [i**2 for i in range(5)]\n",
    "print(a)"
   ]
  },
  {
   "cell_type": "markdown",
   "metadata": {},
   "source": [
    "Løkker kan også avbrytes med `break`, eller tvinges videre med `contine`."
   ]
  },
  {
   "cell_type": "code",
   "execution_count": 10,
   "metadata": {},
   "outputs": [
    {
     "name": "stdout",
     "output_type": "stream",
     "text": [
      "2 er et primtall\n",
      "3 er et primtall\n",
      "4 er 2 * 2\n",
      "5 er et primtall\n",
      "6 er 2 * 3\n",
      "7 er et primtall\n",
      "8 er 2 * 4\n",
      "9 er 3 * 3\n"
     ]
    }
   ],
   "source": [
    "for n in range(2, 10):\n",
    "...     for x in range(2, n):\n",
    "...         if n % x == 0:\n",
    "...             print(n, 'er', x, '*', n//x)\n",
    "...             break\n",
    "...     else:\n",
    "...         # fant ingen faktor\n",
    "...         print(n, 'er et primtall')"
   ]
  },
  {
   "cell_type": "code",
   "execution_count": 11,
   "metadata": {},
   "outputs": [
    {
     "name": "stdout",
     "output_type": "stream",
     "text": [
      "Fant et partall:  2\n",
      "Fant et oddetall: 3\n",
      "Fant et partall:  4\n",
      "Fant et oddetall: 5\n",
      "Fant et partall:  6\n",
      "Fant et oddetall: 7\n",
      "Fant et partall:  8\n",
      "Fant et oddetall: 9\n"
     ]
    }
   ],
   "source": [
    ">>> for n in range(2, 10):\n",
    "...     if n % 2 == 0:\n",
    "...         print(\"Fant et partall: \", n)\n",
    "...         continue\n",
    "...     print(\"Fant et oddetall:\", n)"
   ]
  },
  {
   "cell_type": "markdown",
   "metadata": {},
   "source": [
    "## Funksjoner\n",
    "\n",
    "Funksjoner defineres med `def ...` og kan ha alt fra ingen til mange returverdier. Hvis det er flere returverdier, returneres de i praksis som et   `tuple`. Parametre overføres som referanser til objekter, så hvis objektene er muterbare, kan en funksjon også endre dem."
   ]
  },
  {
   "cell_type": "code",
   "execution_count": 12,
   "metadata": {},
   "outputs": [
    {
     "name": "stdout",
     "output_type": "stream",
     "text": [
      "2 4\n"
     ]
    }
   ],
   "source": [
    "def f(x):\n",
    "    return 2 * x\n",
    "\n",
    "print(2, f(2))"
   ]
  },
  {
   "cell_type": "code",
   "execution_count": 13,
   "metadata": {},
   "outputs": [
    {
     "name": "stdout",
     "output_type": "stream",
     "text": [
      "4 (8, 16)\n",
      "8\n",
      "16\n"
     ]
    }
   ],
   "source": [
    "def f(x):\n",
    "    return 2 * x, x**2\n",
    "\n",
    "print(4, f(4))\n",
    "x, y = f(4)\n",
    "print(x)\n",
    "print(y)"
   ]
  },
  {
   "cell_type": "markdown",
   "metadata": {},
   "source": [
    "Det er god praksis å gi alle funksjoner en «docstring» som dokumenterer funksjonen. Det finnes ulike standarder for hvordan disse skal skrives. Vi holder oss til følgende:\n",
    "\n",
    "1. En kort beskrivelse (en linje) av funksjonen.\n",
    "2. Eventuelt en litt lengre beskrivende tekst\n",
    "3. Parametre\n",
    "4. Returverdier"
   ]
  },
  {
   "cell_type": "code",
   "execution_count": 14,
   "metadata": {},
   "outputs": [],
   "source": [
    "def dobbel(x):\n",
    "    \"\"\"\n",
    "    Beregner og returnerer den dobbelte verdien.\n",
    "    \n",
    "    Det er ikke mye å si om dette, men om man skulle ha lyst,\n",
    "    kan man skrive en lengre utlegning om temaet dobling her.\n",
    "    \n",
    "    Paramters\n",
    "    ---------\n",
    "    x : float / int\n",
    "        Tallet som skal dobles.\n",
    "    \n",
    "    Returns\n",
    "    -------\n",
    "    float / int\n",
    "        Den doblede verdien.\n",
    "    \"\"\"\n",
    "    return 2 * x"
   ]
  },
  {
   "cell_type": "markdown",
   "metadata": {},
   "source": [
    "## Moduler (og pakker)\n",
    "\n",
    "Funksjoner (og klasser etc.) som man ønsker å gjenbruke, samles gjerne i moduler. En Python-modul er rett og slett bare en fil med Python-kode for funksjoner og eller klasser som kan importeres. Se eksempelet i `modul.py`. Moduler eller funksjoner/klasser fra moduler kan importeres på flere måter."
   ]
  },
  {
   "cell_type": "code",
   "execution_count": 15,
   "metadata": {},
   "outputs": [
    {
     "name": "stdout",
     "output_type": "stream",
     "text": [
      "6\n"
     ]
    }
   ],
   "source": [
    "import modul\n",
    "print(modul.dobbel(3))"
   ]
  },
  {
   "cell_type": "code",
   "execution_count": 16,
   "metadata": {},
   "outputs": [
    {
     "name": "stdout",
     "output_type": "stream",
     "text": [
      "6\n"
     ]
    }
   ],
   "source": [
    "import modul as m\n",
    "print(m.dobbel(3))"
   ]
  },
  {
   "cell_type": "code",
   "execution_count": 17,
   "metadata": {},
   "outputs": [
    {
     "name": "stdout",
     "output_type": "stream",
     "text": [
      "6\n"
     ]
    }
   ],
   "source": [
    "from modul import dobbel\n",
    "print(dobbel(3))"
   ]
  },
  {
   "cell_type": "markdown",
   "metadata": {},
   "source": [
    "Dokumentasjonsstrengen brukes til hjelpfunksjonen på ulike måter. For mer omfattende dokumentasjon (i HTML-format etc.) benyttes `pydoc`, og for enda mer omfattende saker finnes `sphinx`."
   ]
  },
  {
   "cell_type": "code",
   "execution_count": 18,
   "metadata": {},
   "outputs": [
    {
     "name": "stdout",
     "output_type": "stream",
     "text": [
      "Help on function dobbel in module modul:\n",
      "\n",
      "dobbel(x)\n",
      "    Beregner og returnerer den dobbelte verdien.\n",
      "    \n",
      "    Det er ikke mye å si om dette, men om man skulle ha lyst,\n",
      "    kan man skrive en lengre utlegning om temaet dobling her.\n",
      "    \n",
      "    Paramters\n",
      "    ---------\n",
      "    x : float / int\n",
      "        Tallet som skal dobles.\n",
      "    \n",
      "    Returns\n",
      "    -------\n",
      "    float / int\n",
      "        Den doblede verdien.\n",
      "\n"
     ]
    }
   ],
   "source": [
    "help(modul.dobbel)"
   ]
  },
  {
   "cell_type": "code",
   "execution_count": 19,
   "metadata": {},
   "outputs": [
    {
     "data": {
      "text/plain": [
       "['__builtins__',\n",
       " '__cached__',\n",
       " '__doc__',\n",
       " '__file__',\n",
       " '__loader__',\n",
       " '__name__',\n",
       " '__package__',\n",
       " '__spec__',\n",
       " 'dobbel',\n",
       " 'test_modul',\n",
       " 'unittest']"
      ]
     },
     "execution_count": 19,
     "metadata": {},
     "output_type": "execute_result"
    }
   ],
   "source": [
    "dir(modul)"
   ]
  },
  {
   "cell_type": "markdown",
   "metadata": {},
   "source": [
    "## Testing\n",
    "\n",
    "Det er også god praksis å skrive tester for funksjonene man lager. Én måte å gjøre dette på er å bruke rammeverket `unittest` og lage egne test-klasser som arver fra `unittest.TestCase`. Testene kan kjøres med `python -m unittest <filnavn>`. Eller, om man ønsker en grundigere analyse av hva som er testet, bruk verktøyet `coverage`: `coverage run --source=. -m unittest <filnavn> && coverage html`. Slike oppgaver kan med fordel overlates til `make` med bruk av en `Makefile`."
   ]
  },
  {
   "cell_type": "markdown",
   "metadata": {},
   "source": [
    "## Numpy\n",
    "\n",
    "`numpy` er en modul for beregninger med matriser og vektorer. Vi kommer til å bruke den mye. Den definerer klassen `array`, som er en n-dimensjonal vektor som kan behandles med lineæralgebra-operasjoner."
   ]
  },
  {
   "cell_type": "code",
   "execution_count": 20,
   "metadata": {},
   "outputs": [
    {
     "name": "stdout",
     "output_type": "stream",
     "text": [
      "[[1. 0. 0.]\n",
      " [0. 1. 0.]\n",
      " [0. 0. 1.]]\n",
      "(3, 3)\n",
      "float64\n"
     ]
    }
   ],
   "source": [
    "import numpy as np\n",
    "\n",
    "a = np.eye(3) # identitetsmatrisen\n",
    "print(a)\n",
    "print(a.shape)\n",
    "print(a.dtype)"
   ]
  },
  {
   "cell_type": "code",
   "execution_count": 21,
   "metadata": {},
   "outputs": [
    {
     "name": "stdout",
     "output_type": "stream",
     "text": [
      "[1. 1. 1.]\n",
      "[[1. 1. 1.]\n",
      " [1. 1. 1.]\n",
      " [1. 1. 1.]]\n"
     ]
    }
   ],
   "source": [
    "print(np.ones(3))\n",
    "print(np.ones((3, 3)))"
   ]
  },
  {
   "cell_type": "code",
   "execution_count": 22,
   "metadata": {},
   "outputs": [
    {
     "name": "stdout",
     "output_type": "stream",
     "text": [
      "[[0.14216413 0.98231595 0.96157136]\n",
      " [0.89072812 0.78496776 0.22124374]\n",
      " [0.26061064 0.16431388 0.60852685]]\n",
      "[[-0.94089606  0.93758201  1.14588953]\n",
      " [ 1.03268505  0.34982955 -1.75899873]\n",
      " [ 0.12410798 -0.49599406  1.62753196]]\n",
      "[[ 1.00000000e+00 -2.57418613e-17  1.93490049e-16]\n",
      " [-1.10764658e-16  1.00000000e+00  8.50882903e-17]\n",
      " [-2.28838270e-17 -2.70933898e-17  1.00000000e+00]]\n"
     ]
    }
   ],
   "source": [
    "a = np.random.rand(3, 3)\n",
    "b = np.linalg.inv(a)\n",
    "print(a)\n",
    "print(b)\n",
    "print(np.dot(a, b)) # matriseprodukt, skal gi identitetsmatrisen"
   ]
  },
  {
   "cell_type": "markdown",
   "metadata": {},
   "source": [
    "«Slicing» er en effektiv teknikk for å arbeide med en del av en `array`. Indekser til arrayer gis på formen `<start>:<stop>:<step>`, f.eks. `2:10:2`, som tilsvarer 2, 4, 6, 8 (men ikke 10, for python opererer med «fra og med» og «til, men ikke med». Tall som utelates angir henholdvis begynnelse og slutt. Negative indekser teller bakfra. `...` angir alle elementer."
   ]
  },
  {
   "cell_type": "code",
   "execution_count": 23,
   "metadata": {},
   "outputs": [
    {
     "name": "stdout",
     "output_type": "stream",
     "text": [
      "[[0.35976453 0.81277623 0.68414981]\n",
      " [0.61889116 0.21622199 0.69194141]\n",
      " [0.68567059 0.66707265 0.91683823]]\n",
      "[[0.61889116 0.21622199]\n",
      " [0.68567059 0.66707265]]\n",
      "[[0. 0.]\n",
      " [0. 0.]]\n",
      "[[0.35976453 0.81277623 0.68414981]\n",
      " [0.         0.         0.69194141]\n",
      " [0.         0.         0.91683823]]\n"
     ]
    }
   ],
   "source": [
    "a = np.random.rand(3, 3)\n",
    "print(a)\n",
    "b = a[1:, :-1]\n",
    "print(b)\n",
    "b[...] = 0\n",
    "print(b)\n",
    "print(a)"
   ]
  },
  {
   "cell_type": "markdown",
   "metadata": {},
   "source": [
    "Dersom man ikke ønsker å arbeide på samme array, må man isteden ta en kopi av arrayen."
   ]
  },
  {
   "cell_type": "code",
   "execution_count": 24,
   "metadata": {},
   "outputs": [
    {
     "name": "stdout",
     "output_type": "stream",
     "text": [
      "[[0.81612966 0.10045399 0.93901015]\n",
      " [0.63181003 0.84102178 0.57465341]\n",
      " [0.66398163 0.05839622 0.43268716]]\n",
      "[[0.63181003 0.84102178]\n",
      " [0.66398163 0.05839622]]\n",
      "[[0. 0.]\n",
      " [0. 0.]]\n",
      "[[0.81612966 0.10045399 0.93901015]\n",
      " [0.63181003 0.84102178 0.57465341]\n",
      " [0.66398163 0.05839622 0.43268716]]\n"
     ]
    }
   ],
   "source": [
    "a = np.random.rand(3, 3)\n",
    "print(a)\n",
    "b = a[1:, :-1].copy()\n",
    "print(b)\n",
    "b[...] = 0\n",
    "print(b)\n",
    "print(a)"
   ]
  },
  {
   "cell_type": "markdown",
   "metadata": {},
   "source": [
    "Det er alltid mye raskere å benytte innebygde (kompilerte) operasjoner på hele arrayer enn å bruke `for`-løkker."
   ]
  },
  {
   "cell_type": "code",
   "execution_count": 25,
   "metadata": {},
   "outputs": [
    {
     "name": "stdout",
     "output_type": "stream",
     "text": [
      "16.5 µs ± 532 ns per loop (mean ± std. dev. of 7 runs, 100000 loops each)\n",
      "553 ns ± 7.77 ns per loop (mean ± std. dev. of 7 runs, 1000000 loops each)\n"
     ]
    }
   ],
   "source": [
    "r = np.arange(100)\n",
    "%timeit [i**2 for i in r]\n",
    "%timeit r**2"
   ]
  },
  {
   "cell_type": "markdown",
   "metadata": {},
   "source": [
    "## Matplotlib\n",
    "\n",
    "Matplotlib er et av flere mulige Python-biblioteker for plotting av numeriske data."
   ]
  },
  {
   "cell_type": "code",
   "execution_count": 26,
   "metadata": {},
   "outputs": [
    {
     "data": {
      "text/plain": [
       "[<matplotlib.lines.Line2D at 0x7f3901482d30>]"
      ]
     },
     "execution_count": 26,
     "metadata": {},
     "output_type": "execute_result"
    },
    {
     "data": {
      "image/png": "[encoded data removed]",
      "text/plain": [
       "<Figure size 432x288 with 1 Axes>"
      ]
     },
     "metadata": {
      "needs_background": "light"
     },
     "output_type": "display_data"
    }
   ],
   "source": [
    "import matplotlib.pyplot as plt # vanlig måte å importere den på\n",
    "%matplotlib inline\n",
    "\n",
    "x = np.linspace(0, 1)\n",
    "y = np.sin(2 * np.pi * x)\n",
    "\n",
    "plt.plot(x, y)"
   ]
  },
  {
   "cell_type": "code",
   "execution_count": 27,
   "metadata": {},
   "outputs": [
    {
     "data": {
      "text/plain": [
       "[<matplotlib.lines.Line2D at 0x7f390139de48>]"
      ]
     },
     "execution_count": 27,
     "metadata": {},
     "output_type": "execute_result"
    },
    {
     "data": {
      "image/png": "[encoded data removed]",
      "text/plain": [
       "<Figure size 432x288 with 1 Axes>"
      ]
     },
     "metadata": {
      "needs_background": "light"
     },
     "output_type": "display_data"
    }
   ],
   "source": [
    "%matplotlib inline\n",
    "plt.plot(x, y)"
   ]
  },
  {
   "cell_type": "markdown",
   "metadata": {},
   "source": [
    "## Verktøy\n",
    "\n",
    "Python kan benyttes på veldig mange forskjellige måter. Her er noen alternativer\n",
    "\n",
    "* *Jupyter i skyløsning (tilbys i emnet, anbefales)*\n",
    "* python i terminal\n",
    "* ipyhon i terminal\n",
    "* jupyter lokalt\n",
    "* IDE-er som f.eks.\n",
    "    - Eclipse m/pydev\n",
    "    - pycharm\n",
    "    - spyder\n",
    "    - idle"
   ]
  }
 ],
 "metadata": {
  "kernelspec": {
   "display_name": "Python 3",
   "language": "python",
   "name": "python3"
  },
  "language_info": {
   "codemirror_mode": {
    "name": "ipython",
    "version": 3
   },
   "file_extension": ".py",
   "mimetype": "text/x-python",
   "name": "python",
   "nbconvert_exporter": "python",
   "pygments_lexer": "ipython3",
   "version": "3.6.7"
  }
 },
 "nbformat": 4,
 "nbformat_minor": 2
}
