{
 "cells": [
  {
   "cell_type": "markdown",
   "metadata": {},
   "source": [
    "# Introduksjon til Python\n",
    "\n",
    "Python er tolket («interpreted»), ikke kompilert. Man kan gi én og én kommando og få den utført umiddelbart."
   ]
  },
  {
   "cell_type": "markdown",
   "metadata": {},
   "source": [
    "## Variabler og typer\n",
    "\n",
    "Språket bruker dynamisk typing, også kjent som «duck type». Man både definierer og deklarerer en variabel ved å tilordne den en verdi."
   ]
  },
  {
   "cell_type": "code",
   "execution_count": 1,
   "metadata": {},
   "outputs": [
    {
     "name": "stdout",
     "output_type": "stream",
     "text": [
      "3 <class 'int'>\n",
      "3.6 <class 'float'>\n",
      "python <class 'str'>\n",
      "False <class 'bool'>\n",
      "6.6 <class 'float'>\n",
      "python3\n"
     ]
    }
   ],
   "source": [
    "a = 3\n",
    "b = 3.6\n",
    "c = 'python'\n",
    "d = (a == b)\n",
    "print(a, type(a))\n",
    "print(b, type(b))\n",
    "print(c, type(c))\n",
    "print(d, type(d))\n",
    "print(a + b, type(a + b))\n",
    "print(c + str(a))"
   ]
  },
  {
   "cell_type": "code",
   "execution_count": null,
   "metadata": {},
   "outputs": [],
   "source": []
  },
  {
   "cell_type": "code",
   "execution_count": null,
   "metadata": {},
   "outputs": [],
   "source": []
  }
 ],
 "metadata": {
  "kernelspec": {
   "display_name": "Python 3",
   "language": "python",
   "name": "python3"
  },
  "language_info": {
   "codemirror_mode": {
    "name": "ipython",
    "version": 3
   },
   "file_extension": ".py",
   "mimetype": "text/x-python",
   "name": "python",
   "nbconvert_exporter": "python",
   "pygments_lexer": "ipython3",
   "version": "3.6.7"
  }
 },
 "nbformat": 4,
 "nbformat_minor": 2
}
