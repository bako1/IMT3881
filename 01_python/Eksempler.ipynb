{
 "cells": [
  {
   "cell_type": "markdown",
   "metadata": {},
   "source": [
    "# Introduksjon til Python\n",
    "\n",
    "Python er tolket («interpreted»), ikke kompilert. Man kan gi én og én kommando og få den utført umiddelbart."
   ]
  },
  {
   "cell_type": "markdown",
   "metadata": {},
   "source": [
    "## Variabler og typer\n",
    "\n",
    "Språket bruker dynamisk typing, også kjent som «duck type». Man både definerer og deklarerer en variabel ved å tilordne den en verdi (objekt)."
   ]
  },
  {
   "cell_type": "code",
   "execution_count": 1,
   "metadata": {},
   "outputs": [
    {
     "name": "stdout",
     "output_type": "stream",
     "text": [
      "3 <class 'int'>\n",
      "3.6 <class 'float'>\n",
      "python <class 'str'>\n",
      "False <class 'bool'>\n",
      "6.6 <class 'float'>\n",
      "python3\n"
     ]
    }
   ],
   "source": [
    "a = 3\n",
    "b = 3.6\n",
    "c = 'python'\n",
    "d = (a == b)\n",
    "print(a, type(a))\n",
    "print(b, type(b))\n",
    "print(c, type(c))\n",
    "print(d, type(d))\n",
    "print(a + b, type(a + b))\n",
    "print(c + str(a))"
   ]
  },
  {
   "cell_type": "markdown",
   "metadata": {},
   "source": [
    "For spesielt interesserte kan det være verdt å merke seg at alt, selv tallkonstanter, er objekter i Python."
   ]
  },
  {
   "cell_type": "code",
   "execution_count": 2,
   "metadata": {},
   "outputs": [
    {
     "name": "stdout",
     "output_type": "stream",
     "text": [
      "3\n",
      "7\n"
     ]
    }
   ],
   "source": [
    "print((-3).__abs__())\n",
    "print((3).__add__(4))"
   ]
  },
  {
   "cell_type": "markdown",
   "metadata": {},
   "source": [
    "## Lister, tupler og ordbøker\n",
    "\n",
    "Python har innebygde datatyper for ulike containere. De viktiste er `list`, `tuple` og `dict`.\n",
    "\n",
    "### `list` og `tuple`\n",
    "\n",
    "En `list`er en liste av objekter. De behøver ikke være av samme type. Et `tuple` ligner veldig på en liste, men er konstant og innholdet kan ikke endres."
   ]
  },
  {
   "cell_type": "code",
   "execution_count": 3,
   "metadata": {},
   "outputs": [
    {
     "name": "stdout",
     "output_type": "stream",
     "text": [
      "<class 'list'>\n",
      "1\n",
      "3\n",
      "[1, 2]\n",
      "[3, 2, 1]\n",
      "[1, 'tekst', 3]\n"
     ]
    }
   ],
   "source": [
    "a = [1, 2 ,3]\n",
    "print(type(a))\n",
    "print(a[0])\n",
    "print(a[-1])\n",
    "print(a[0:2])\n",
    "print(a[-1::-1])\n",
    "a[1] = 'tekst'\n",
    "print(a)"
   ]
  },
  {
   "cell_type": "markdown",
   "metadata": {},
   "source": [
    "En liste kan også f.eks. brukes som en stakk."
   ]
  },
  {
   "cell_type": "code",
   "execution_count": 4,
   "metadata": {},
   "outputs": [
    {
     "name": "stdout",
     "output_type": "stream",
     "text": [
      "[1, 'tekst', 3, '42']\n",
      "42\n",
      "[1, 'tekst', 3]\n"
     ]
    }
   ],
   "source": [
    "a.append('42')\n",
    "print(a)\n",
    "print(a.pop())\n",
    "print(a)"
   ]
  },
  {
   "cell_type": "markdown",
   "metadata": {},
   "source": [
    "Syntax for `tuple`:"
   ]
  },
  {
   "cell_type": "code",
   "execution_count": 5,
   "metadata": {},
   "outputs": [
    {
     "name": "stdout",
     "output_type": "stream",
     "text": [
      "<class 'tuple'>\n",
      "<class 'tuple'>\n",
      "1\n"
     ]
    }
   ],
   "source": [
    "a = 1, 2, 3\n",
    "print(type(a))\n",
    "b = (1, 2, 3)\n",
    "print(type(b))\n",
    "print(a[0])"
   ]
  },
  {
   "cell_type": "markdown",
   "metadata": {},
   "source": [
    "### `dict`\n",
    "\n",
    "En `dict` er en ordbok («dictionary»), eller det som i mange språk kalles en assosiativ tabell som består av en samling av attributt-verdi par (nøkkel, verdi) hvor hver nøkkel bare opptrer en gang i samlingen."
   ]
  },
  {
   "cell_type": "code",
   "execution_count": 6,
   "metadata": {},
   "outputs": [
    {
     "name": "stdout",
     "output_type": "stream",
     "text": [
      "35277\n",
      "{'Frode': 35191, 'Ivar': 35277, 'Erik': 35220}\n"
     ]
    }
   ],
   "source": [
    "tlf = {'Frode' : 35191, 'Ivar' : 35277}\n",
    "print(tlf['Ivar'])\n",
    "tlf['Erik'] = 35220\n",
    "print(tlf)"
   ]
  },
  {
   "cell_type": "markdown",
   "metadata": {},
   "source": [
    "## Kontrollstrukturer\n",
    "\n",
    "De viktigste kontrollstrukturene i Python er `if ... elif ... else`, `for ... in ...` og `while ...`. Blokker i koden defineres utelukkende med innrykk, så det benyttes ikke begin/end, {/} el.l."
   ]
  },
  {
   "cell_type": "code",
   "execution_count": 7,
   "metadata": {},
   "outputs": [
    {
     "name": "stdout",
     "output_type": "stream",
     "text": [
      "0\n",
      "a er null\n",
      "1\n",
      "a er én\n",
      "2\n",
      "a er hverken null eller én\n"
     ]
    }
   ],
   "source": [
    "for a in range(3):\n",
    "    print(a)\n",
    "    if a == 0:\n",
    "        print('a er null')\n",
    "    elif a == 1:\n",
    "        print('a er én')\n",
    "    else:\n",
    "        print('a er hverken null eller én')"
   ]
  },
  {
   "cell_type": "code",
   "execution_count": 8,
   "metadata": {},
   "outputs": [
    {
     "name": "stdout",
     "output_type": "stream",
     "text": [
      "0\n",
      "1\n",
      "2\n",
      "3\n",
      "4\n"
     ]
    }
   ],
   "source": [
    "a = 0\n",
    "while a < 5:\n",
    "    print(a)\n",
    "    a += 1"
   ]
  },
  {
   "cell_type": "markdown",
   "metadata": {},
   "source": [
    "En litt artig konstruksjon i Pyhon kalles «list comprehension»."
   ]
  },
  {
   "cell_type": "code",
   "execution_count": 9,
   "metadata": {},
   "outputs": [
    {
     "name": "stdout",
     "output_type": "stream",
     "text": [
      "[0, 1, 4, 9, 16]\n"
     ]
    }
   ],
   "source": [
    "a = [i**2 for i in range(5)]\n",
    "print(a)"
   ]
  },
  {
   "cell_type": "markdown",
   "metadata": {},
   "source": [
    "Løkker kan også avbrytes med `break`, eller tvinges videre med `contine`."
   ]
  },
  {
   "cell_type": "code",
   "execution_count": 10,
   "metadata": {},
   "outputs": [
    {
     "name": "stdout",
     "output_type": "stream",
     "text": [
      "2 er et primtall\n",
      "3 er et primtall\n",
      "4 er 2 * 2\n",
      "5 er et primtall\n",
      "6 er 2 * 3\n",
      "7 er et primtall\n",
      "8 er 2 * 4\n",
      "9 er 3 * 3\n"
     ]
    }
   ],
   "source": [
    "for n in range(2, 10):\n",
    "...     for x in range(2, n):\n",
    "...         if n % x == 0:\n",
    "...             print(n, 'er', x, '*', n//x)\n",
    "...             break\n",
    "...     else:\n",
    "...         # fant ingen faktor\n",
    "...         print(n, 'er et primtall')"
   ]
  },
  {
   "cell_type": "code",
   "execution_count": 11,
   "metadata": {},
   "outputs": [
    {
     "name": "stdout",
     "output_type": "stream",
     "text": [
      "Fant et partall:  2\n",
      "Fant et oddetall: 3\n",
      "Fant et partall:  4\n",
      "Fant et oddetall: 5\n",
      "Fant et partall:  6\n",
      "Fant et oddetall: 7\n",
      "Fant et partall:  8\n",
      "Fant et oddetall: 9\n"
     ]
    }
   ],
   "source": [
    ">>> for n in range(2, 10):\n",
    "...     if n % 2 == 0:\n",
    "...         print(\"Fant et partall: \", n)\n",
    "...         continue\n",
    "...     print(\"Fant et oddetall:\", n)"
   ]
  },
  {
   "cell_type": "markdown",
   "metadata": {},
   "source": [
    "## Funksjoner\n",
    "\n",
    "Funksjoner defineres med `def ...` og kan ha alt fra ingen til mange returverdier. Hvis det er flere returverdier, returneres de i praksis som et   `tuple`. Parametre overføres som referanser til objekter, så hvis objektene er muterbare, kan en funksjon også endre dem."
   ]
  },
  {
   "cell_type": "code",
   "execution_count": 12,
   "metadata": {},
   "outputs": [
    {
     "name": "stdout",
     "output_type": "stream",
     "text": [
      "2 4\n"
     ]
    }
   ],
   "source": [
    "def f(x):\n",
    "    return 2 * x\n",
    "\n",
    "print(2, f(2))"
   ]
  },
  {
   "cell_type": "code",
   "execution_count": 13,
   "metadata": {},
   "outputs": [
    {
     "name": "stdout",
     "output_type": "stream",
     "text": [
      "4 (8, 16)\n",
      "8\n",
      "16\n"
     ]
    }
   ],
   "source": [
    "def f(x):\n",
    "    return 2 * x, x**2\n",
    "\n",
    "print(4, f(4))\n",
    "x, y = f(4)\n",
    "print(x)\n",
    "print(y)"
   ]
  },
  {
   "cell_type": "markdown",
   "metadata": {},
   "source": [
    "Det er god praksis å gi alle funksjoner en «docstring» som dokumenterer funksjonen. Det finnes ulike standarder for hvordan disse skal skrives. Vi holder oss til følgende:\n",
    "\n",
    "1. En kort beskrivelse (en linje) av funksjonen.\n",
    "2. Eventuelt en litt lengre beskrivende tekst\n",
    "3. Parametre\n",
    "4. Returverdier"
   ]
  },
  {
   "cell_type": "code",
   "execution_count": 14,
   "metadata": {},
   "outputs": [],
   "source": [
    "def dobbel(x):\n",
    "    \"\"\"\n",
    "    Beregner og returnerer den dobbelte verdien.\n",
    "    \n",
    "    Det er ikke mye å si om dette, men om man skulle ha lyst,\n",
    "    kan man skrive en lengre utlegning om temaet dobling her.\n",
    "    \n",
    "    Paramters\n",
    "    ---------\n",
    "    x : float / int\n",
    "        Tallet som skal dobles.\n",
    "    \n",
    "    Returns\n",
    "    -------\n",
    "    float / int\n",
    "        Den doblede verdien.\n",
    "    \"\"\"\n",
    "    return 2 * x"
   ]
  },
  {
   "cell_type": "markdown",
   "metadata": {},
   "source": [
    "## Moduler (og pakker)\n",
    "\n",
    "Funksjoner (og klasser etc.) som man ønsker å gjenbruke, samles gjerne i moduler. En Python-modul er rett og slett bare en fil med Python-kode for funksjoner og eller klasser som kan importeres. Se eksempelet i `modul.py`. Moduler eller funksjoner/klasser fra moduler kan importeres på flere måter."
   ]
  },
  {
   "cell_type": "code",
   "execution_count": 15,
   "metadata": {},
   "outputs": [
    {
     "name": "stdout",
     "output_type": "stream",
     "text": [
      "6\n"
     ]
    }
   ],
   "source": [
    "import modul\n",
    "print(modul.dobbel(3))"
   ]
  },
  {
   "cell_type": "code",
   "execution_count": 16,
   "metadata": {},
   "outputs": [
    {
     "name": "stdout",
     "output_type": "stream",
     "text": [
      "6\n"
     ]
    }
   ],
   "source": [
    "import modul as m\n",
    "print(m.dobbel(3))"
   ]
  },
  {
   "cell_type": "code",
   "execution_count": 17,
   "metadata": {},
   "outputs": [
    {
     "name": "stdout",
     "output_type": "stream",
     "text": [
      "6\n"
     ]
    }
   ],
   "source": [
    "from modul import dobbel\n",
    "print(dobbel(3))"
   ]
  },
  {
   "cell_type": "markdown",
   "metadata": {},
   "source": [
    "Dokumentasjonsstrengen brukes til hjelpfunksjonen på ulike måter. For mer omfattende dokumentasjon (i HTML-format etc.) benyttes `pydoc`, og for enda mer omfattende saker finnes `sphinx`."
   ]
  },
  {
   "cell_type": "code",
   "execution_count": 18,
   "metadata": {},
   "outputs": [
    {
     "name": "stdout",
     "output_type": "stream",
     "text": [
      "Help on function dobbel in module modul:\n",
      "\n",
      "dobbel(x)\n",
      "    Beregner og returnerer den dobbelte verdien.\n",
      "    \n",
      "    Det er ikke mye å si om dette, men om man skulle ha lyst,\n",
      "    kan man skrive en lengre utlegning om temaet dobling her.\n",
      "    \n",
      "    Paramters\n",
      "    ---------\n",
      "    x : float / int\n",
      "        Tallet som skal dobles.\n",
      "    \n",
      "    Returns\n",
      "    -------\n",
      "    float / int\n",
      "        Den doblede verdien.\n",
      "\n"
     ]
    }
   ],
   "source": [
    "help(modul.dobbel)"
   ]
  },
  {
   "cell_type": "code",
   "execution_count": 19,
   "metadata": {},
   "outputs": [
    {
     "data": {
      "text/plain": [
       "['__builtins__',\n",
       " '__cached__',\n",
       " '__doc__',\n",
       " '__file__',\n",
       " '__loader__',\n",
       " '__name__',\n",
       " '__package__',\n",
       " '__spec__',\n",
       " 'dobbel',\n",
       " 'test_modul',\n",
       " 'unittest']"
      ]
     },
     "execution_count": 19,
     "metadata": {},
     "output_type": "execute_result"
    }
   ],
   "source": [
    "dir(modul)"
   ]
  },
  {
   "cell_type": "markdown",
   "metadata": {},
   "source": [
    "## Testing\n",
    "\n",
    "Det er også god praksis å skrive tester for funksjonene man lager. Én måte å gjøre dette på er å bruke rammeverket `unittest` og lage egne test-klasser som arver fra `unittest.TestCase`. Testene kan kjøres med `python -m unittest <filnavn>`. Eller, om man ønsker en grundigere analyse av hva som er testet, bruk verktøyet `coverage`: `coverage run --source=. -m unittest <filnavn> && coverage html`. Slike oppgaver kan med fordel overlates til `make` med bruk av en `Makefile`."
   ]
  },
  {
   "cell_type": "markdown",
   "metadata": {},
   "source": [
    "## Numpy\n",
    "\n",
    "`numpy` er en modul for beregninger med matriser og vektorer. Vi kommer til å bruke den mye. Den definerer klassen `array`, som er en n-dimensjonal vektor som kan behandles med lineæralgebra-operasjoner."
   ]
  },
  {
   "cell_type": "code",
   "execution_count": 20,
   "metadata": {},
   "outputs": [
    {
     "name": "stdout",
     "output_type": "stream",
     "text": [
      "[[1. 0. 0.]\n",
      " [0. 1. 0.]\n",
      " [0. 0. 1.]]\n"
     ]
    }
   ],
   "source": [
    "import numpy as np\n",
    "\n",
    "print(np.eye(3)) # identitetsmatrisen"
   ]
  },
  {
   "cell_type": "code",
   "execution_count": 21,
   "metadata": {},
   "outputs": [
    {
     "name": "stdout",
     "output_type": "stream",
     "text": [
      "[1. 1. 1.]\n",
      "[[1. 1. 1.]\n",
      " [1. 1. 1.]\n",
      " [1. 1. 1.]]\n"
     ]
    }
   ],
   "source": [
    "print(np.ones(3))\n",
    "print(np.ones((3, 3)))"
   ]
  },
  {
   "cell_type": "code",
   "execution_count": 22,
   "metadata": {},
   "outputs": [
    {
     "name": "stdout",
     "output_type": "stream",
     "text": [
      "[[0.63577207 0.99187196 0.2027206 ]\n",
      " [0.38851484 0.73541301 0.41650485]\n",
      " [0.33626492 0.09485272 0.15478535]]\n",
      "[[ 0.88626638 -1.60141417  3.14843951]\n",
      " [ 0.95298294  0.36059462 -2.21841845]\n",
      " [-2.50936741  3.25803457  0.98015266]]\n",
      "[[ 1.00000000e+00  1.37569066e-16 -4.72459539e-17]\n",
      " [ 1.99709159e-16  1.00000000e+00  9.96018361e-18]\n",
      " [ 3.30661079e-17  4.27242067e-17  1.00000000e+00]]\n"
     ]
    }
   ],
   "source": [
    "a = np.random.rand(3, 3)\n",
    "b = np.linalg.inv(a)\n",
    "print(a)\n",
    "print(b)\n",
    "print(np.dot(a, b)) # matriseprodukt, skal gi identitetsmatrisen"
   ]
  }
 ],
 "metadata": {
  "kernelspec": {
   "display_name": "Python 3",
   "language": "python",
   "name": "python3"
  },
  "language_info": {
   "codemirror_mode": {
    "name": "ipython",
    "version": 3
   },
   "file_extension": ".py",
   "mimetype": "text/x-python",
   "name": "python",
   "nbconvert_exporter": "python",
   "pygments_lexer": "ipython3",
   "version": "3.6.7"
  }
 },
 "nbformat": 4,
 "nbformat_minor": 2
}
