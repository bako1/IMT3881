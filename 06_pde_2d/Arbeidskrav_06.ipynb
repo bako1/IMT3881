{
 "cells": [
  {
   "cell_type": "markdown",
   "metadata": {},
   "source": [
    "# Arbeidskrav 6: partielle differensialligninger\n",
    "\n",
    "Finn Neumannbetingelsene for den konstruerte løsningen til diffusjonsligningen i Eksempler_06."
   ]
  },
  {
   "cell_type": "markdown",
   "metadata": {},
   "source": []
  },
  {
   "cell_type": "markdown",
   "metadata": {},
   "source": [
    "Implementer eksplisitt skjema for den konstruerte løsningen med forenklede Neumannbetingelser (se midt på s. 165 i læreboken)."
   ]
  },
  {
   "cell_type": "code",
   "execution_count": null,
   "metadata": {},
   "outputs": [],
   "source": []
  },
  {
   "cell_type": "markdown",
   "metadata": {},
   "source": [
    "Gjennomfør en nøyaktighetsanalyse av skjemaet og sammenlign med Dirichlet-løsningen fra Eksempler_06"
   ]
  },
  {
   "cell_type": "code",
   "execution_count": null,
   "metadata": {},
   "outputs": [],
   "source": []
  },
  {
   "cell_type": "markdown",
   "metadata": {},
   "source": [
    "Gjør det samme for den mer nøyaktige implementasjonen av Neumannbetingelser (øverst på s. 165 i læreboken)."
   ]
  }
 ],
 "metadata": {
  "kernelspec": {
   "display_name": "Python 3",
   "language": "python",
   "name": "python3"
  },
  "language_info": {
   "codemirror_mode": {
    "name": "ipython",
    "version": 3
   },
   "file_extension": ".py",
   "mimetype": "text/x-python",
   "name": "python",
   "nbconvert_exporter": "python",
   "pygments_lexer": "ipython3",
   "version": "3.6.7"
  }
 },
 "nbformat": 4,
 "nbformat_minor": 2
}
