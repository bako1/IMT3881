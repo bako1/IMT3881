{
 "cells": [
  {
   "cell_type": "markdown",
   "metadata": {},
   "source": [
    "# Arbeidskrav 6: partielle differensialligninger\n",
    "\n",
    "Finn Neumannbetingelsene for den konstruerte løsningen til diffusjonsligningen i Eksempler_06. For å gjøre dette må du beregne hva den deriverte av den konstruerte løsningen faktisk er i randpunktene $x = 0$ og $x = 1$."
   ]
  },
  {
   "cell_type": "markdown",
   "metadata": {},
   "source": []
  },
  {
   "cell_type": "markdown",
   "metadata": {},
   "source": [
    "Implementer eksplisitt skjema for den konstruerte løsningen med forenklede Neumannbetingelser (se midt på s. 165 i læreboken). Dette innebærer å bruke en foroverdifferanse for den romlig deriverte på venstre rand ($x = 0$), og en bakoverdifferanse for den romlig deriverte på høyre rand ($x = 1$)."
   ]
  },
  {
   "cell_type": "code",
   "execution_count": null,
   "metadata": {},
   "outputs": [],
   "source": []
  },
  {
   "cell_type": "markdown",
   "metadata": {},
   "source": [
    "Gjennomfør en nøyaktighetsanalyse av skjemaet (som i Eksempler_06) og sammenlign med Dirichlet-løsningen fra Eksempler_06"
   ]
  },
  {
   "cell_type": "code",
   "execution_count": null,
   "metadata": {},
   "outputs": [],
   "source": []
  },
  {
   "cell_type": "markdown",
   "metadata": {},
   "source": [
    "Gjør det samme for den mer nøyaktige implementasjonen av Neumannbetingelser (øverst på s. 165 i læreboken). Her benyttes sentrerte differanser for den romlig deriverte på randen ved å innføre kunstige punkter utenfor randen, $u_{-1}$ og $u_{N+1}$. Disse punktene kan så uttrykkes ved punktene innenfor randen ved å bruke randbetingelsen, og dermed blir det mulig å benytte skjemaet også for punktene på randen, hvilket ellers ikke er mulig."
   ]
  },
  {
   "cell_type": "code",
   "execution_count": null,
   "metadata": {},
   "outputs": [],
   "source": []
  },
  {
   "cell_type": "markdown",
   "metadata": {},
   "source": [
    "Gjennomfør en nøyaktighetsanalyse av skjemaet og sammenlign med Dirichlet-løsningen fra Eksempler_06 og med den forenklede behandlingen av randverdiene over."
   ]
  },
  {
   "cell_type": "code",
   "execution_count": null,
   "metadata": {},
   "outputs": [],
   "source": []
  }
 ],
 "metadata": {
  "kernelspec": {
   "display_name": "Python 3",
   "language": "python",
   "name": "python3"
  },
  "language_info": {
   "codemirror_mode": {
    "name": "ipython",
    "version": 3
   },
   "file_extension": ".py",
   "mimetype": "text/x-python",
   "name": "python",
   "nbconvert_exporter": "python",
   "pygments_lexer": "ipython3",
   "version": "3.6.9"
  }
 },
 "nbformat": 4,
 "nbformat_minor": 2
}
