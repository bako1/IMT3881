{
 "cells": [
  {
   "cell_type": "markdown",
   "metadata": {},
   "source": [
    "# Arbeidskrav 6: partielle differensialligninger\n",
    "\n",
    "Finn Neumannbetingelsene for den konstruerte løsningen til diffusjonsligningen i Eksempler_06. For å gjøre dette må du beregne hva den deriverte av den konstruerte løsningen faktisk er i randpunktene $x = 0$ og $x = 1$."
   ]
  },
  {
   "cell_type": "markdown",
   "metadata": {},
   "source": [
    "$$ u(x,t)=t^2 + 4x^3 $$\n",
    "\n",
    "$$\\frac{\\partial u_0}{\\partial x} = 12(0)^2 = 0$$\n",
    "\n",
    "$$\\frac{\\partial u_1}{\\partial x} = 12(1)^2 = 12$$\n",
    "\n"
   ]
  },
  {
   "cell_type": "markdown",
   "metadata": {},
   "source": [
    "Implementer eksplisitt skjema for den konstruerte løsningen med forenklede Neumannbetingelser (se midt på s. 165 i læreboken). Dette innebærer å bruke en foroverdifferanse for den romlig deriverte på venstre rand ($x = 0$), og en bakoverdifferanse for den romlig deriverte på høyre rand ($x = 1$)."
   ]
  },
  {
   "cell_type": "markdown",
   "metadata": {},
   "source": [
    "#Neumannbetingelse i $x_0$ \n",
    "\n",
    "foroverdifferanse:\n",
    "\n",
    "$$\\frac{\\partial u_0}{\\partial x} = \\frac {u_{i+1}-u_{i}}{\\Delta x} = 0$$\n",
    "\n",
    "\n",
    "$$ u_i = u_{i+1} $$\n",
    "\n",
    "$$ t^2 +4(1)^3 = t^2 + 4$$\n",
    "#Neumannbetingelse i $x_1$ \n",
    "\n",
    " bakoverdifferanse:\n",
    "\n",
    "$$\\frac{\\partial u_1}{\\partial x} = \\frac {u_n-u_{n-1}}{\\Delta x} = 12$$\n",
    "\n",
    "$$ u_n = u_{n-1}+ 12 \\Delta x $$\n",
    "\n",
    "   $$ u_n= t^2 + 12\\Delta x$$\n",
    "\n",
    "Eksplisitt skjema:\n",
    "$$\n",
    "\\begin{aligned}\n",
    "\\frac{u^{n + 1}_i - u^n_i}{\\Delta t} &= \\frac{u^n_{i + 1} - 2 u^n_i + u^n_{i - 1}}{\\Delta x^2} + 2 t^n - 24 x_i \\\\\n",
    "\\Rightarrow \\quad\n",
    "u^{n + 1}_i &= u^n_i + \\alpha(u^n_{i + 1} - 2 u^n_i + u^n_{i - 1}) + \\Delta t (2 t^n - 24 x_i)\n",
    "\\end{aligned}\n",
    "$$\n"
   ]
  },
  {
   "cell_type": "code",
   "execution_count": 13,
   "metadata": {},
   "outputs": [],
   "source": [
    "import numpy as np\n",
    "import matplotlib.pyplot as plt\n",
    "\n",
    "def konstruert_N(N_punkter, N_tider):\n",
    "    delta_t = 1 / (N_tider - 1)\n",
    "    delta_x = 1 / (N_punkter - 1)\n",
    "    alpha = delta_t / delta_x**2\n",
    "    x = np.linspace(0, 1, N_punkter)\n",
    "    u = 4 * x**3\n",
    "    for n in range(N_tider - 1):\n",
    "        t = delta_t * (n + 1)\n",
    "        u[1:-1] += alpha * (u[2:] - 2 * u[1:-1] + u[:-2]) + delta_t * (2 * t - 24 * x[1:-1])\n",
    "        u[0] = u[1]\n",
    "        u[-1] = 12*delta_x + u[-2]\n",
    "    return x, u\n",
    "\n",
    "def eksakt_N(x):\n",
    "    return 1 + 4 * x**3\n",
    "\n",
    "def feil_N(N_punkter, N_tider):\n",
    "    x, u = konstruert(N_punkter, N_tider)\n",
    "    u_e_N = eksakt_N(x)\n",
    "    return np.sum(np.abs(u - u_e_N)) / N_punkter"
   ]
  },
  {
   "cell_type": "code",
   "execution_count": 4,
   "metadata": {
    "scrolled": true
   },
   "outputs": [
    {
     "data": {
      "text/plain": [
       "<matplotlib.legend.Legend at 0x7ff657908750>"
      ]
     },
     "execution_count": 4,
     "metadata": {},
     "output_type": "execute_result"
    },
    {
     "data": {
      "image/png": "[encoded data removed]",
      "text/plain": [
       "<Figure size 432x288 with 1 Axes>"
      ]
     },
     "metadata": {
      "needs_background": "light"
     },
     "output_type": "display_data"
    }
   ],
   "source": [
    "x, u = konstruert_N(5, 25)\n",
    "plt.plot(x, u)\n",
    "plt.plot(x, eksakt_N(x))\n",
    "plt.legend([\"konstruerte\",\"eksakte\"])"
   ]
  },
  {
   "cell_type": "markdown",
   "metadata": {},
   "source": [
    "Gjennomfør en nøyaktighetsanalyse av skjemaet (som i Eksempler_06) og sammenlign med Dirichlet-løsningen fra Eksempler_06"
   ]
  },
  {
   "cell_type": "code",
   "execution_count": 14,
   "metadata": {},
   "outputs": [
    {
     "data": {
      "text/plain": [
       "[<matplotlib.lines.Line2D at 0x7ff62c8d4a90>]"
      ]
     },
     "execution_count": 14,
     "metadata": {},
     "output_type": "execute_result"
    },
    {
     "data": {
      "image/png": "[encoded data removed]",
      "text/plain": [
       "<Figure size 432x288 with 1 Axes>"
      ]
     },
     "metadata": {
      "needs_background": "light"
     },
     "output_type": "display_data"
    }
   ],
   "source": [
    "import numpy as np\n",
    "import matplotlib.pyplot as plt\n",
    "\n",
    "def konstruert(N_punkter, N_tider):\n",
    "    delta_t = 1 / (N_tider - 1)\n",
    "    delta_x = 1 / (N_punkter - 1)\n",
    "    alpha = delta_t / delta_x**2\n",
    "    x = np.linspace(0, 1, N_punkter)\n",
    "    u = 4 * x**3\n",
    "    for n in range(N_tider - 1):\n",
    "        t = delta_t * (n + 1)\n",
    "        u[1:-1] += alpha * (u[2:] - 2 * u[1:-1] + u[:-2]) + delta_t * (2 * t - 24 * x[1:-1])\n",
    "        u[0] = t**2 \n",
    "        u[-1] = t**2 + 4\n",
    "    return x, u\n",
    "\n",
    "def eksakt(x):\n",
    "    return 1 + 4 * x**3\n",
    "\n",
    "def feil(N_punkter, N_tider):\n",
    "    x, u = konstruert(N_punkter, N_tider)\n",
    "    u_e = eksakt(x)\n",
    "    return np.sum(np.abs(u - u_e)) / N_punkter\n",
    "\n",
    "x, u = konstruert(5, 25)\n",
    "plt.plot(x, u)"
   ]
  },
  {
   "cell_type": "code",
   "execution_count": null,
   "metadata": {},
   "outputs": [],
   "source": []
  },
  {
   "cell_type": "code",
   "execution_count": null,
   "metadata": {},
   "outputs": [],
   "source": []
  },
  {
   "cell_type": "markdown",
   "metadata": {},
   "source": [
    "Gjør det samme for den mer nøyaktige implementasjonen av Neumannbetingelser (øverst på s. 165 i læreboken). Her benyttes sentrerte differanser for den romlig deriverte på randen ved å innføre kunstige punkter utenfor randen, $u_{-1}$ og $u_{N+1}$. Disse punktene kan så uttrykkes ved punktene innenfor randen ved å bruke randbetingelsen, og dermed blir det mulig å benytte skjemaet også for punktene på randen, hvilket ellers ikke er mulig."
   ]
  },
  {
   "cell_type": "code",
   "execution_count": 18,
   "metadata": {},
   "outputs": [
    {
     "data": {
      "text/plain": [
       "<matplotlib.legend.Legend at 0x7ff62c7b1fd0>"
      ]
     },
     "execution_count": 18,
     "metadata": {},
     "output_type": "execute_result"
    },
    {
     "data": {
      "image/png": "[encoded data removed]",
      "text/plain": [
       "<Figure size 432x288 with 1 Axes>"
      ]
     },
     "metadata": {
      "needs_background": "light"
     },
     "output_type": "display_data"
    }
   ],
   "source": [
    "import numpy as np\n",
    "import matplotlib.pyplot as plt\n",
    "\n",
    "def konstruert_N_S(N_punkter, N_tider):\n",
    "    delta_t = 1 / (N_tider - 1)\n",
    "    delta_x = 1 / (N_punkter - 1)\n",
    "    alpha = delta_t / delta_x**2\n",
    "    x = np.linspace(0, 1, N_punkter)\n",
    "    u = 4 * x**3\n",
    "    for n in range(N_tider - 1):\n",
    "        t = delta_t * (n + 1)\n",
    "        u[1:-1] += alpha * (u[2:] - 2 * u[1:-1] + u[:-2]) + delta_t * (2 * t - 24 * x[1:-1])\n",
    "        u[0] += alpha * (u[1] - 2 * u[0] + u[1]) + delta_t * (2 * t - 24 * x[0])\n",
    "        u[-1] += alpha * (u[-2] - 2 * u[-1] + 24*delta_x +u[-2]) + delta_t * (2 * t - 24 * x[-1])\n",
    "    return x, u\n",
    "\n",
    "def eksakt_N_S(x):\n",
    "    return 1 + 4 * x**3\n",
    "\n",
    "def feil_N_S(N_punkter, N_tider):\n",
    "    x, u = konstruert_N_S(N_punkter, N_tider)\n",
    "    u_e_N_S = eksakt_N(x)\n",
    "    return np.sum(np.abs(u - u_e_N_S)) / N_punkter\n",
    "\n",
    "x, u = konstruert_N_S(5, 25)\n",
    "plt.plot(x, u)\n",
    "plt.plot(x, eksakt_N_S(x))\n",
    "plt.legend([\"konstruerte\",\"eksakte\"])"
   ]
  },
  {
   "cell_type": "markdown",
   "metadata": {},
   "source": [
    "Gjennomfør en nøyaktighetsanalyse av skjemaet og sammenlign med Dirichlet-løsningen fra Eksempler_06 og med den forenklede behandlingen av randverdiene over."
   ]
  },
  {
   "cell_type": "code",
   "execution_count": 16,
   "metadata": {},
   "outputs": [
    {
     "name": "stdout",
     "output_type": "stream",
     "text": [
      "\n",
      "Direchlet\n",
      "\n",
      "50\t0.001275\t0.063774\t3.188679\n",
      "100\t0.000631\t0.063128\t6.312799\n",
      "150\t0.000419\t0.062916\t9.437333\n",
      "200\t0.000314\t0.062810\t12.561968\n",
      "\n",
      "NEUMAN\n",
      "\n",
      "50\t0.001275\t0.063774\t3.188679\n",
      "100\t0.000631\t0.063128\t6.312799\n",
      "150\t0.000419\t0.062916\t9.437333\n",
      "200\t0.000314\t0.062810\t12.561968\n"
     ]
    }
   ],
   "source": [
    "print(\"\\nDirechlet\\n\")\n",
    "n_punkter = 5\n",
    "for n_tider in np.arange(50, 250, 50):\n",
    "    E = feil(n_punkter, n_tider)\n",
    "    print(\"%d\\t%f\\t%f\\t%f\" % (n_tider, E, E * n_tider, E * n_tider**2))\n",
    "\n",
    "\n",
    "print(\"\\nNEUMAN\\n\")\n",
    "n_punkter = 5\n",
    "for n_tider in np.arange(50, 250, 50):\n",
    "    E = feil_N(n_punkter, n_tider)\n",
    "    print(\"%d\\t%f\\t%f\\t%f\" % (n_tider, E, E * n_tider, E * n_tider**2))\n",
    "\n"
   ]
  },
  {
   "cell_type": "code",
   "execution_count": null,
   "metadata": {},
   "outputs": [],
   "source": []
  }
 ],
 "metadata": {
  "kernelspec": {
   "display_name": "Python 3",
   "language": "python",
   "name": "python3"
  },
  "language_info": {
   "codemirror_mode": {
    "name": "ipython",
    "version": 3
   },
   "file_extension": ".py",
   "mimetype": "text/x-python",
   "name": "python",
   "nbconvert_exporter": "python",
   "pygments_lexer": "ipython3",
   "version": "3.7.4"
  }
 },
 "nbformat": 4,
 "nbformat_minor": 2
}
