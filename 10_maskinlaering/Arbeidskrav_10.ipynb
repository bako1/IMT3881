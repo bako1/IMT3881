{
 "cells": [
  {
   "cell_type": "markdown",
   "metadata": {},
   "source": [
    "# Arbeidskrav 10: maskinlæring\n",
    "\n",
    "Les inn demodatasettet for brystkreft og utforsk det ved å plotte ulike data mot hverandre. Ser det ut til å være lett å skille de godartede og ondartede svulstene fra hverandre?"
   ]
  },
  {
   "cell_type": "code",
   "execution_count": 1,
   "metadata": {},
   "outputs": [],
   "source": [
    "import matplotlib.pyplot as plt\n",
    "import sklearn.datasets\n",
    "%matplotlib inline\n",
    "\n",
    "dataset = sklearn.datasets.load_breast_cancer()"
   ]
  },
  {
   "cell_type": "markdown",
   "metadata": {},
   "source": [
    "Del datasettet `dataset.data` og fasiten `dataset.target` i to deler, `train` og `train_target`, og `test` og `test_target` – en for trening og en for testing – på følgende måte"
   ]
  },
  {
   "cell_type": "code",
   "execution_count": 2,
   "metadata": {},
   "outputs": [],
   "source": [
    "from sklearn import model_selection\n",
    "train, test, train_target, test_target = model_selection.train_test_split(dataset.data, dataset.target, test_size=0.25, random_state=0)"
   ]
  },
  {
   "cell_type": "markdown",
   "metadata": {},
   "source": [
    "Velg minst én maskinlæringsmetode for klassifikasjon (f.eks. kNN eller SVM), og tren den vha. treningsdatasettet."
   ]
  },
  {
   "cell_type": "code",
   "execution_count": null,
   "metadata": {},
   "outputs": [],
   "source": []
  },
  {
   "cell_type": "markdown",
   "metadata": {},
   "source": [
    "Test metoden på testdataene og beregn presicion, $p = N_{tp} / (N_{tp} + N_{fp})$, og recall, $r = N_{tp} / (N_{tp} + N_{fn})$. Hva er de praktiske for konsekvensene for pasientene når $p$ er lav? Og når $r$ er lav?"
   ]
  },
  {
   "cell_type": "code",
   "execution_count": null,
   "metadata": {},
   "outputs": [],
   "source": []
  },
  {
   "cell_type": "markdown",
   "metadata": {},
   "source": [
    "Beregn også $F_1 = 2 N_{tp} / (2 N_{tp} + N_{fp} + N_{fn})$. Hvem klarer å få den høyeste...?"
   ]
  },
  {
   "cell_type": "code",
   "execution_count": null,
   "metadata": {},
   "outputs": [],
   "source": []
  }
 ],
 "metadata": {
  "kernelspec": {
   "display_name": "Python 3",
   "language": "python",
   "name": "python3"
  },
  "language_info": {
   "codemirror_mode": {
    "name": "ipython",
    "version": 3
   },
   "file_extension": ".py",
   "mimetype": "text/x-python",
   "name": "python",
   "nbconvert_exporter": "python",
   "pygments_lexer": "ipython3",
   "version": "3.6.7"
  }
 },
 "nbformat": 4,
 "nbformat_minor": 2
}
