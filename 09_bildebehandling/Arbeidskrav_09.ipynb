{
 "cells": [
  {
   "cell_type": "markdown",
   "metadata": {},
   "source": [
    "# Arbeidskrav 9: bildebehandling\n",
    "\n",
    "Bruk teknikkene beskrevet i [«Scipy Lecture Notes»](https://scipy-lectures.org/advanced/image_processing/index.html) til å telle hvor mange disker det er  bildet `dots.jpg`. Tips til rekkefølge på operasjoner:\n",
    "\n",
    "* Les inn bildet\n",
    "* Konverter til gråtone\n",
    "* Terskle bildet slik at det blir binært\n",
    "* Gjør nødvendie operasjoner på det binære bildet (matematisk morfologi fra `scipy.ndimage`)\n",
    "* Bruk målemetoder (fra `scipy.ndimage`)"
   ]
  }
 ],
 "metadata": {
  "kernelspec": {
   "display_name": "Python 3",
   "language": "python",
   "name": "python3"
  },
  "language_info": {
   "codemirror_mode": {
    "name": "ipython",
    "version": 3
   },
   "file_extension": ".py",
   "mimetype": "text/x-python",
   "name": "python",
   "nbconvert_exporter": "python",
   "pygments_lexer": "ipython3",
   "version": "3.6.7"
  }
 },
 "nbformat": 4,
 "nbformat_minor": 2
}
