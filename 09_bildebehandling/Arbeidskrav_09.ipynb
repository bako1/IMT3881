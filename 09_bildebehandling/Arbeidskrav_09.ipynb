{
 "cells": [
  {
   "cell_type": "markdown",
   "metadata": {},
   "source": [
    "# Arbeidskrav 9: bildebehandling\n",
    "\n",
    "Bruk teknikkene beskrevet i [«Scipy Lecture Notes»](https://scipy-lectures.org/advanced/image_processing/index.html) til å telle hvor mange disker det er  bildet `dots.jpg`."
   ]
  }
 ],
 "metadata": {
  "kernelspec": {
   "display_name": "Python 3",
   "language": "python",
   "name": "python3"
  },
  "language_info": {
   "codemirror_mode": {
    "name": "ipython",
    "version": 3
   },
   "file_extension": ".py",
   "mimetype": "text/x-python",
   "name": "python",
   "nbconvert_exporter": "python",
   "pygments_lexer": "ipython3",
   "version": "3.6.7"
  }
 },
 "nbformat": 4,
 "nbformat_minor": 2
}
