{
 "cells": [
  {
   "cell_type": "markdown",
   "metadata": {},
   "source": [
    "# Arbeidskrav 5: partielle differensialligninger\n",
    "\n",
    "Betrakt diffusjonsligningen\n",
    "$$\n",
    "\\frac{\\partial T}{\\partial t} = k \\frac{\\partial^2 T}{\\partial x^2} \\,.\n",
    "$$\n",
    "Dersom vi kun gjør en romlig diskretisering (altså kun $x$, ikke $t$), kan denne skrives som\n",
    "$$\n",
    "\\frac{\\partial T_i}{\\partial t} = k \\frac{T_{i + 1} - 2 T_i + T_{i - 1}}{\\Delta x^2},\n",
    "$$\n",
    "altså et nokså stort system av ordinære differensialligninger (!) for funksjonene $T_i(t)$.\n",
    "\n",
    "Bruk denne observasjonene til å løse systemet vha. funksjonen for eksplisitt (og evt. Heun) som ble laget i arbeidskrav 4 for selvvalgte randbetingelser (diskretiseringen over vil kun fungere for indre noder, så her trengs litt kreativitet)."
   ]
  },
  {
   "cell_type": "code",
   "execution_count": null,
   "metadata": {},
   "outputs": [],
   "source": []
  }
 ],
 "metadata": {
  "kernelspec": {
   "display_name": "Python 3",
   "language": "python",
   "name": "python3"
  },
  "language_info": {
   "codemirror_mode": {
    "name": "ipython",
    "version": 3
   },
   "file_extension": ".py",
   "mimetype": "text/x-python",
   "name": "python",
   "nbconvert_exporter": "python",
   "pygments_lexer": "ipython3",
   "version": "3.6.7"
  }
 },
 "nbformat": 4,
 "nbformat_minor": 2
}
