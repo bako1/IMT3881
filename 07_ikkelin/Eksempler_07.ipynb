{
 "cells": [
  {
   "cell_type": "markdown",
   "metadata": {},
   "source": [
    "# Ikkelineære algebraiske ligninger\n",
    "\n",
    "## Halvdelingsmetoden"
   ]
  },
  {
   "cell_type": "code",
   "execution_count": 2,
   "metadata": {
    "ExecuteTime": {
     "end_time": "2019-02-28T08:21:28.829705Z",
     "start_time": "2019-02-28T08:21:28.522009Z"
    }
   },
   "outputs": [
    {
     "name": "stdout",
     "output_type": "stream",
     "text": [
      "halvdeling:\n",
      "1.5\n",
      "0.75\n",
      "1.125\n",
      "1.3125\n",
      "1.21875\n",
      "1.171875\n",
      "1.1484375\n",
      "1.13671875\n",
      "1.142578125\n",
      "1.1455078125\n",
      "1.14697265625\n",
      "1.146240234375\n",
      "1.1458740234375\n",
      "1.14605712890625\n",
      "1.146148681640625\n",
      "1.1461944580078125\n",
      "1.1461715698242188\n",
      "1.1461830139160156\n",
      "1.146188735961914\n",
      "1.1461915969848633\n",
      "\n",
      "scipy:\n",
      "1.146193220619807\n"
     ]
    }
   ],
   "source": [
    "import numpy as np\n",
    "import scipy.optimize\n",
    "\n",
    "def halvdeling(func, a, b, tol=1e-5, debug=False):\n",
    "    \"\"\"\n",
    "    Løs func(x) = 0 for x i [a, b] med halvdelingsmetoden\n",
    "    \"\"\"\n",
    "    c = .5 * (a + b)\n",
    "    while(abs(a - b) > tol):\n",
    "        if debug:\n",
    "            print(c)\n",
    "        if func(a) * func(c) < 0:\n",
    "            b = c\n",
    "        else:\n",
    "            a = c\n",
    "        c = .5 * (a + b)\n",
    "    return c\n",
    "\n",
    "def f(x):\n",
    "    \"\"\"\n",
    "    Testfunksjon som skal løses\n",
    "    \"\"\"\n",
    "    return 2 + x - np.exp(x)\n",
    "\n",
    "\n",
    "# Test\n",
    "\n",
    "print('halvdeling:')\n",
    "print(halvdeling(f, 0, 3, debug=True))\n",
    "\n",
    "# Metoden er også innebygget i scipy ...\n",
    "\n",
    "print('\\nscipy:')\n",
    "print(scipy.optimize.bisect(f, 0, 3))"
   ]
  },
  {
   "cell_type": "markdown",
   "metadata": {},
   "source": [
    "## Newtons metode"
   ]
  },
  {
   "cell_type": "code",
   "execution_count": 2,
   "metadata": {
    "ExecuteTime": {
     "end_time": "2019-02-28T08:21:28.851325Z",
     "start_time": "2019-02-28T08:21:28.839630Z"
    }
   },
   "outputs": [
    {
     "name": "stdout",
     "output_type": "stream",
     "text": [
      "newton:\n",
      "3\n",
      "2.209582785965024\n",
      "1.6052456089794034\n",
      "1.2599808904673104\n",
      "1.1548973196510117\n",
      "1.1462483680076454\n",
      "1.1461932228496199\n",
      "\n",
      "scipy:\n",
      "1.1461932206205825\n"
     ]
    }
   ],
   "source": [
    "def newton(func, deriv, x, tol=1e-5, debug=False):\n",
    "    \"\"\"\n",
    "    Løs func(x) = 0 for x (start med x) med Newtons metode\n",
    "    \"\"\"\n",
    "    while(abs(func(x)) > tol):\n",
    "        if debug:\n",
    "            print(x)\n",
    "        x = x - func(x) / deriv(x)\n",
    "    return x\n",
    "\n",
    "\n",
    "def f(x):\n",
    "    \"\"\"\n",
    "    Testfunksjon som skal løses\n",
    "    \"\"\"\n",
    "    return 2 + x - np.exp(x)\n",
    "\n",
    "\n",
    "def df_dx(x):\n",
    "    \"\"\"\n",
    "    Den deriverte av testfunksjonen\n",
    "    \"\"\"\n",
    "    return 1 - np.exp(x)\n",
    "\n",
    "\n",
    "# Test\n",
    "\n",
    "print('newton:')\n",
    "print(newton(f, df_dx, 3, debug=True))\n",
    "\n",
    "# Metoden er også innebygget i scipy ...\n",
    "\n",
    "print('\\nscipy:')\n",
    "print(scipy.optimize.newton(f, 3, df_dx))"
   ]
  },
  {
   "cell_type": "markdown",
   "metadata": {},
   "source": [
    "## Sekant-metoden"
   ]
  },
  {
   "cell_type": "code",
   "execution_count": 3,
   "metadata": {
    "ExecuteTime": {
     "end_time": "2019-02-28T08:21:28.889306Z",
     "start_time": "2019-02-28T08:21:28.854478Z"
    }
   },
   "outputs": [
    {
     "name": "stdout",
     "output_type": "stream",
     "text": [
      "1.7102499333045391\n",
      "1.5332889552105198\n",
      "1.2629037708357642\n",
      "1.17375837337461\n",
      "1.1484226061857594\n",
      "1.1462377334503697\n",
      "1.1461932932917993\n",
      "1.1461932932917993\n"
     ]
    }
   ],
   "source": [
    "def sekant(func, x0, x1, tol=1e-5, debug=False):\n",
    "    \"\"\"\n",
    "    Løs func(x) = 0 for x i [a, b] med sekantmetoden\n",
    "    \"\"\"\n",
    "    xpp = x0                    # p for 'previous'\n",
    "    xp = x1\n",
    "    x = x1\n",
    "    while(abs(func(x)) > tol):\n",
    "        x = xp - func(xp) * (xp - xpp) / (func(xp) - func(xpp))\n",
    "        if debug:\n",
    "            print(x)\n",
    "        xpp = xp\n",
    "        xp = x\n",
    "    return x\n",
    "\n",
    "\n",
    "def f(x):\n",
    "    \"\"\"\n",
    "    Testfunksjon som skal løses\n",
    "    \"\"\"\n",
    "    return 2 + x - np.exp(x)\n",
    "\n",
    "\n",
    "# Test\n",
    "\n",
    "print(sekant(f, 2, 3, debug=True))"
   ]
  },
  {
   "cell_type": "markdown",
   "metadata": {},
   "source": [
    "## Fikspunktiterasjon"
   ]
  },
  {
   "cell_type": "code",
   "execution_count": 4,
   "metadata": {
    "ExecuteTime": {
     "end_time": "2019-02-28T08:21:28.923054Z",
     "start_time": "2019-02-28T08:21:28.894661Z"
    }
   },
   "outputs": [
    {
     "name": "stdout",
     "output_type": "stream",
     "text": [
      "fikspunkt:\n",
      "0.6931471805599453\n",
      "0.9907104653475315\n",
      "1.0955109730055064\n",
      "1.129952988795776\n",
      "1.141017984885202\n",
      "1.1445469463870452\n",
      "1.1456698245726091\n",
      "1.1460268482614193\n",
      "1.1461403386942097\n",
      "1.1461764122534241\n",
      "1.1461878781603843\n",
      "1.146191522547909\n",
      "\n",
      "alternativ fikspunkt:\n",
      "-1.0\n",
      "-1.6321205588285577\n",
      "-1.8044854658474119\n",
      "-1.8354408939220457\n",
      "-1.8404568553435368\n",
      "-1.841255113911434\n",
      "-1.8413817828128696\n",
      "-1.8414018735357267\n",
      "-1.8414050598547234\n",
      "\n",
      "scipy:\n",
      "1.146193220620583\n"
     ]
    }
   ],
   "source": [
    "def fikspunkt(func, x0, tol=1e-5, debug=False):\n",
    "    \"\"\"\n",
    "    Finn fikspunktet x = func(x) ved fikspunktiterasjon\n",
    "    \"\"\"\n",
    "    x = func(x0)\n",
    "    while(abs(x - x0) > tol):\n",
    "        if debug:\n",
    "            print(x)\n",
    "        x0 = x\n",
    "        x = func(x)\n",
    "    return x\n",
    "\n",
    "\n",
    "def f(x):\n",
    "    \"\"\"\n",
    "    Testfunksjon for finning av fikspunkt\n",
    "    \"\"\"\n",
    "    return np.log(2 + x)\n",
    "\n",
    "def f_alt(x):\n",
    "    \"\"\"\n",
    "    Alternativ testfunksjon for samme ligning\n",
    "    \"\"\"\n",
    "    return np.exp(x) - 2\n",
    "\n",
    "\n",
    "# Test\n",
    "\n",
    "print('fikspunkt:')\n",
    "print(fikspunkt(f, 0, debug=True))\n",
    "\n",
    "print('\\nalternativ fikspunkt:')\n",
    "print(fikspunkt(f_alt, 0, debug=True))\n",
    "\n",
    "\n",
    "# Og så var det scipy igjen ...\n",
    "\n",
    "print('\\nscipy:')\n",
    "print(scipy.optimize.fixed_point(f, 0,))\n"
   ]
  },
  {
   "cell_type": "markdown",
   "metadata": {},
   "source": [
    "## Newtons metode for et system av ligninger"
   ]
  },
  {
   "cell_type": "code",
   "execution_count": 3,
   "metadata": {
    "ExecuteTime": {
     "end_time": "2019-02-28T08:21:29.024704Z",
     "start_time": "2019-02-28T08:21:28.936945Z"
    }
   },
   "outputs": [
    {
     "name": "stdout",
     "output_type": "stream",
     "text": [
      "newton:\n",
      "[0.7, -0.2]\n",
      "[ 0.10230116 -0.21049882]\n",
      "[-0.00969685  0.00362015]\n",
      "[ 1.08202325e-05 -2.93208494e-05]\n",
<<<<<<< HEAD
      "[-2.71223003e-10  1.00085418e-10]\n",
=======
      "[-2.71223059e-10  1.00085584e-10]\n",
>>>>>>> 732a632241c367800b9b1a03b8efd1ffdbaac0c3
      "\n",
      "scipy:\n",
      "    fjac: array([[-0.85501965, -0.5185956 ],\n",
      "       [ 0.5185956 , -0.85501965]])\n",
      "     fun: array([0., 0.])\n",
      " message: 'The solution converged.'\n",
      "    nfev: 9\n",
      "    njev: 1\n",
      "     qtf: array([1.84311260e-12, 3.03877912e-12])\n",
      "       r: array([-1.92828466,  0.89109351, -1.7100392 ])\n",
      "  status: 1\n",
      " success: True\n",
      "       x: array([-3.60579310e-17, -5.03558405e-17])\n"
     ]
    }
   ],
   "source": [
    "def newton(func, jac, x, tol=1e-5, debug=False):\n",
    "    \"\"\"\n",
    "    Løs func(x) = 0 for x (start med x) med Newtons metode\n",
    "    \"\"\"\n",
    "    while(abs(func(x)).sum() > tol):\n",
    "        if debug:\n",
    "            print(x)\n",
    "        x = x - np.dot(np.linalg.inv(jac(x)), func(x))\n",
    "    return x\n",
    "\n",
    "\n",
    "def f(x):\n",
    "    \"\"\"\n",
    "    Testfunksjon som skal løses\n",
    "    \"\"\"\n",
    "    return  (np.array([np.exp(x[0]) - np.exp(x[1]),\n",
    "                     np.log(1 + x[0] + x[1])]))\n",
    "\n",
    "\n",
    "def f_jac(x):\n",
    "    \"\"\"\n",
    "    Jacobimatrisen til systemet\n",
    "    \"\"\"\n",
    "    return np.array([[np.exp(x[0]), -np.exp(x[1])],\n",
    "                     [1 / (1 + x[0] + x[1]),\n",
    "                      1 / (1 + x[0] + x[1])]])\n",
    "\n",
    "\n",
    "# Test\n",
    "\n",
    "print('newton:')\n",
    "print(newton(f, f_jac, [.7, -.2], debug=True))\n",
    "\n",
    "# Scipy ...\n",
    "\n",
    "print('\\nscipy:')\n",
    "print(scipy.optimize.root(f, [.5, .5], jac=f_jac))  # not necessarily Newton"
   ]
  },
  {
   "cell_type": "code",
   "execution_count": null,
   "metadata": {},
   "outputs": [],
   "source": []
  }
 ],
 "metadata": {
  "kernelspec": {
   "display_name": "Python 3",
   "language": "python",
   "name": "python3"
  },
  "language_info": {
   "codemirror_mode": {
    "name": "ipython",
    "version": 3
   },
   "file_extension": ".py",
   "mimetype": "text/x-python",
   "name": "python",
   "nbconvert_exporter": "python",
   "pygments_lexer": "ipython3",
<<<<<<< HEAD
   "version": "3.7.4"
=======
   "version": "3.6.9"
>>>>>>> 732a632241c367800b9b1a03b8efd1ffdbaac0c3
  },
  "toc": {
   "base_numbering": 1,
   "nav_menu": {},
   "number_sections": true,
   "sideBar": true,
   "skip_h1_title": false,
   "title_cell": "Table of Contents",
   "title_sidebar": "Contents",
   "toc_cell": false,
   "toc_position": {},
   "toc_section_display": true,
   "toc_window_display": false
  }
 },
 "nbformat": 4,
 "nbformat_minor": 2
}
