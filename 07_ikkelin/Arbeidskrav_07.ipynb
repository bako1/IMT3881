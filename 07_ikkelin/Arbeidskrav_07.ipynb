{
 "cells": [
  {
   "cell_type": "markdown",
   "metadata": {},
   "source": [
    "# Arbeidskrav 7: ikkelineære algebraiske ligninger\n",
    "\n",
    "Gitt følgende ODE:\n",
    "$$\n",
    "u'(t) = e^{-u}, \\quad u(0) = 0\n",
    "$$\n",
    "\n",
    "Utled og implementer et eksplisitt numerisk skjema for ODE-en."
   ]
  },
  {
   "cell_type": "markdown",
   "metadata": {},
   "source": [
    "$$ \\frac{u_{n+1}-u_n} {\\Delta t}=e^{-u}$$\n",
    "\n",
    "\n",
    "$$u_{n+1} = u_n + \\Delta t e^{-u_n}$$"
   ]
  },
  {
   "cell_type": "code",
   "execution_count": 77,
   "metadata": {},
   "outputs": [
    {
     "name": "stdout",
     "output_type": "stream",
     "text": [
      "[0.1        0.92257947 1.2839362  1.53570442 1.7314353  1.89237179\n",
      " 2.02938445 2.14885389 2.25487002 2.350222   2.43690199 2.51638499]\n"
     ]
    }
   ],
   "source": [
    "import numpy as np\n",
    "import matplotlib.pyplot as plt\n",
    "def eksplisitt(N,T,y_0):\n",
    "\n",
    "    delta_t = T/N\n",
    "    y_verdier_eks = np.zeros(N + 1) \n",
    "    n_verdier = np.arange(N + 1)\n",
    "    t_verdier = delta_t * n_verdier\n",
    "    y_verdier_eks[0] = y_0\n",
    "    for i in range(N):\n",
    "        y_verdier_eks[i + 1] = delta_t*np.exp(-y_verdier_eks[i]) +y_verdier_eks[i]\n",
    "    plt.plot(t_verdier, y_verdier_eks)\n",
    "    plt.plot(t_verdier,np.log(1+t_verdier))\n",
    "    plt.legend([\"eskplisitt\",\"eksakte\"])\n",
    "\n",
    "    return y_verdier_eks\n",
    "  \n",
    "print(eksplisitt(11,10,0.1))"
   ]
  },
  {
   "cell_type": "markdown",
   "metadata": {},
   "source": [
    "Utled et implisitt Euler-skjema for ODE-en. Det vil dukke opp en ligning som ikke uten videre lar seg løse med blyant og papir. Bruk Newtons metode for å løse denne ligningen på hvert tidsskritt. Implementer løsningen."
   ]
  },
  {
   "cell_type": "markdown",
   "metadata": {},
   "source": [
    "$Implisitt: $\n",
    "$$\\frac{u_{n+1}-u_n}{\\Delta t} = e^{-u_{n+1}}$$\n",
    "\n",
    "$$ u_n = u_{n+1} - \\Delta t e^{-u_{n+1}}$$\n",
    "\n",
    "$Newtons Metode:$\n",
    "\n",
    "$f(u)= u_{n+1}-u_n - \\Delta t e^{-u_{n+1}}=0$\n",
    "\n",
    "\n",
    "$$f(x)=x-\\Delta t e^{-x} -u_n = 0$$\n",
    "\n",
    "$$f'(x)=1-\\Delta t e^{-x}= 1+\\Delta t e^{-x}$$"
   ]
  },
  {
   "cell_type": "code",
   "execution_count": 101,
   "metadata": {},
   "outputs": [
    {
     "name": "stdout",
     "output_type": "stream",
     "text": [
      "newton implisitt:\n",
      "0.1\n",
      "0.08949277314263816\n",
      "0.07898554628527632\n",
      "0.06847831942791448\n",
      "0.057971092570552635\n",
      "0.04746386571319079\n",
      "0.03695663885582895\n",
      "0.026449411998467103\n",
      "0.015942185141105257\n",
      "0.005434958283743411\n",
      "-0.005072268573618435\n"
     ]
    }
   ],
   "source": [
    "def newton(func, deriv, x, tol=1e-5, debug=False):\n",
    "    \"\"\"\n",
    "    Løs func(x) = 0 for x (start med x) med Newtons metode\n",
    "    \"\"\"\n",
    "    while(abs(func(x)) > tol and x>=0):\n",
    "        if debug:\n",
    "            print(x)\n",
    "        x = x - func(x) / deriv(x)\n",
    "    return x\n",
    "\n",
    "\n",
    "def f_impl(x,a):\n",
    "    delta_t=1/100\n",
    "    x-delta_t*np.exp(-x-)\n",
    "    #x=np.linspace(0,1)\n",
    "    #x[0]=0\n",
    "    #for i in range(0,1):\n",
    "        #y= x[i+1]-delta_t*np.exp(-x[i+1]-x[i])\n",
    "        \n",
    "        \n",
    "        #return y\n",
    "       \n",
    "\n",
    "def df_dx_impl(x):\n",
    "    delta_t=1/100\n",
    "    return 1+delta_t*np.exp(-x)\n",
    "    #x=np.linspace(0,1)\n",
    "   \n",
    "    #x[0]=0\n",
    "    #for i in range(0,1):\n",
    "    #    y=1+delta_t*np.exp(-x[i+1])\n",
    "        \n",
    "        #return  y\n",
    "for i in range(0,1):\n",
    "    \n",
    "\n",
    "print('newton implisitt:')\n",
    "print(newton(f_impl, df_dx_impl, 0.1, debug=True))"
   ]
  },
  {
   "cell_type": "markdown",
   "metadata": {},
   "source": [
    "Sett $\\Delta t = 1/100$ og beregn numeriske løsninger for $t \\in [0, 1]$ for de to skjemaene over."
   ]
  },
  {
   "cell_type": "markdown",
   "metadata": {},
   "source": [
    "Vis at $u(t) = ln(1 + t)$ er en eksakt løsning av ODE-en. Bruk dette til å undersøke nøyaktigheten av de to skjemaene."
   ]
  },
  {
   "cell_type": "markdown",
   "metadata": {},
   "source": [
    "$u'(t) = e^{-u}$\n",
    "$$e^uu' = 1$$\n",
    "$$e^u=t+c$$\n",
    "$$u= ln(t+c)$$\n",
    "siden$$ u(0)=0$: c=1$$\n",
    "\n",
    "$$u(t) = ln(t + 1)$$"
   ]
  },
  {
   "cell_type": "code",
   "execution_count": 79,
   "metadata": {},
   "outputs": [
    {
     "name": "stdout",
     "output_type": "stream",
     "text": [
      "Eksakt:\n",
      "0.1\n",
      "-0.004841197784757431\n"
     ]
    }
   ],
   "source": [
    "import matplotlib.pyplot as plt\n",
    "\n",
    "def eksakt_f(x):\n",
    "    delta_t=1/100\n",
    "    return np.log(x+1)\n",
    "       \n",
    "def eksakt_df_dx(x):\n",
    "    return 1/(x+1)\n",
    "        \n",
    "print('Eksakt:')\n",
    "print(newton(eksakt_f, eksakt_df_dx, 0.1, debug=True))\n",
    "\n",
    "\n"
   ]
  },
  {
   "cell_type": "markdown",
   "metadata": {},
   "source": [
    "Betrakt Crank–Nicolson-skjemaet\n",
    "$$\n",
    "\\frac{u_{n + 1} - u_n}{\\Delta t} = \\frac12(e^{-u_n} + e^{-u_{n + 1}})\n",
    "$$\n",
    "Bruk Newtons metode for å løse ligningen som oppstår på hvert tidsskritt. Implementer skjemaet og sammenlign nøyaktigheten med eksplisitt og implisitt skjema over."
   ]
  },
  {
   "cell_type": "markdown",
   "metadata": {},
   "source": [
    "$$f(u) = u_n- u_{n+1} + \\frac {\\Delta t }{2}(e^{-u_n} + e^{-u_{n+1}}) = 0$$\n",
    "Newton:\n",
    "$$f(x)= \\frac{\\Delta t}{2}(e^{-u_n}+e^{-x}) - x+u_n=0$$\n",
    "\n",
    "\n",
    "$$f'(x) = \\frac {-\\Delta t}{2}e^{-x}-1$$"
   ]
  },
  {
   "cell_type": "code",
   "execution_count": 80,
   "metadata": {},
   "outputs": [
    {
     "name": "stdout",
     "output_type": "stream",
     "text": [
      "newton Crank:\n",
      "0.1\n",
      "0.08954206346570018\n",
      "0.07908412693140035\n",
      "0.06862619039710052\n",
      "0.05816825386280069\n",
      "0.047710317328500854\n",
      "0.03725238079420102\n",
      "0.026794444259901185\n",
      "0.01633650772560135\n",
      "0.005878571191301517\n",
      "-0.004579365342998316\n"
     ]
    }
   ],
   "source": [
    "\n",
    "\n",
    "def f_Crank(x):\n",
    "    delta_t=1/100\n",
    "    x=np.linspace(0,1)\n",
    "    x[0]=0\n",
    "    for i in range(0,1):\n",
    "        y= 0.5*delta_t*np.exp(-x[i]) + 0.5*delta_t* np.exp(-x[i+1])-x[i+1]+x[i]\n",
    "        \n",
    "        \n",
    "        return y\n",
    "       \n",
    "\n",
    "def df_dx_Crank(x):\n",
    "    delta_t=1/100\n",
    "    x=np.linspace(0,1)\n",
    "    x[0]=0\n",
    "    \n",
    "    for i in range(0,1):\n",
    "        y=-0.5*delta_t*np.exp(-x[i+1])-1\n",
    "        \n",
    "        return  y\n",
    "        \n",
    "\n",
    "print('newton Crank:')\n",
    "print(newton(f_Crank, df_dx_Crank, 0.1, debug=True))"
   ]
  },
  {
   "cell_type": "markdown",
   "metadata": {},
   "source": [
    "Og gjør det samme – Newtons metode, implementer og sammenlign nøyaktigheten med de forrige metodene – med skjemaet\n",
    "$$\n",
    "\\frac{u_{n + 1} - u_n}{\\Delta t} = e^{-\\frac12(u_n + u_{n + 1})}\n",
    "$$"
   ]
  },
  {
   "cell_type": "markdown",
   "metadata": {},
   "source": [
    "$$f(u)=\\Delta t e^{\\frac{-1}2(u_n + u_{n+1})} - u_{n+1}+u_n = 0$$\n",
    "$$f(x)=\\Delta t e^{\\frac{-1}2(u_n + x}) - x+u_n$$\n",
    "\n",
    "$$ f'(x)=\\Delta t e^{\\frac{-1}2}-1 $$"
   ]
  },
  {
   "cell_type": "code",
   "execution_count": 102,
   "metadata": {},
   "outputs": [
    {
     "name": "stdout",
     "output_type": "stream",
     "text": [
      "newton M_Method:\n",
      "0.1\n",
      "0.08942618131626193\n",
      "0.07885236263252385\n",
      "0.06827854394878577\n",
      "0.05770472526504769\n",
      "0.04713090658130961\n",
      "0.03655708789757153\n",
      "0.025983269213833454\n",
      "0.015409450530095377\n",
      "0.0048356318463573\n",
      "-0.005738186837380777\n"
     ]
    }
   ],
   "source": [
    "def f_m(x):\n",
    "    delta_t=1/100\n",
    "    x=np.linspace(0,1)\n",
    "    x[0]=0\n",
    "    for i in range(0,1):\n",
    "        y= delta_t*np.exp(-0.5*x[i]-0.5*x[i+1])-x[i+1]+x[i]\n",
    "        return y\n",
    "       \n",
    "\n",
    "def df_dx_m(x):\n",
    "    delta_t=1/100\n",
    "    x=np.linspace(0,1)\n",
    "    x[0]=0\n",
    "    \n",
    "    for i in range(0,1):\n",
    "        y=delta_t*np.exp(-0.5)-1\n",
    "        return  y\n",
    "        \n",
    "\n",
    "print('newton M_Method:')\n",
    "print(newton(f_m, df_dx_m, 0.1, debug=True))"
   ]
  },
  {
   "cell_type": "code",
   "execution_count": 97,
   "metadata": {
    "scrolled": true
   },
   "outputs": [
    {
     "name": "stdout",
     "output_type": "stream",
     "text": [
      "Sammenligne Nøyaktigheten \n",
      "\n",
      "\n",
      "Eksakte:\n",
      "0.1\n",
      "-0.004841197784757431\n"
     ]
    }
   ],
   "source": [
    "print(\"Sammenligne Nøyaktigheten \\n\\n\")\n",
    "print(\"Eksakte:\")\n",
    "print(newton(eksakt_f,eksakt_df_dx,0.1,debug = True)) "
   ]
  },
  {
   "cell_type": "code",
   "execution_count": 98,
   "metadata": {},
   "outputs": [
    {
     "name": "stdout",
     "output_type": "stream",
     "text": [
      "Implisitt: \n",
      "0.1\n",
      "0.08949277314263816\n",
      "0.07898554628527632\n",
      "0.06847831942791448\n",
      "0.057971092570552635\n",
      "0.04746386571319079\n",
      "0.03695663885582895\n",
      "0.026449411998467103\n",
      "0.015942185141105257\n",
      "0.005434958283743411\n",
      "-0.005072268573618435\n"
     ]
    }
   ],
   "source": [
    "print(\"Implisitt: \")\n",
    "print(newton(f_impl,df_dx_impl,0.1,debug= True))\n"
   ]
  },
  {
   "cell_type": "code",
   "execution_count": 99,
   "metadata": {},
   "outputs": [
    {
     "name": "stdout",
     "output_type": "stream",
     "text": [
      " Crank:\n",
      "0.1\n",
      "0.08954206346570018\n",
      "0.07908412693140035\n",
      "0.06862619039710052\n",
      "0.05816825386280069\n",
      "0.047710317328500854\n",
      "0.03725238079420102\n",
      "0.026794444259901185\n",
      "0.01633650772560135\n",
      "0.005878571191301517\n",
      "-0.004579365342998316\n"
     ]
    }
   ],
   "source": [
    "print(' Crank:')\n",
    "print(newton(f_Crank, df_dx_Crank, 0.1, debug=True))"
   ]
  },
  {
   "cell_type": "code",
   "execution_count": 100,
   "metadata": {},
   "outputs": [
    {
     "name": "stdout",
     "output_type": "stream",
     "text": [
      " M_Method:\n",
      "0.1\n",
      "0.08942618131626193\n",
      "0.07885236263252385\n",
      "0.06827854394878577\n",
      "0.05770472526504769\n",
      "0.04713090658130961\n",
      "0.03655708789757153\n",
      "0.025983269213833454\n",
      "0.015409450530095377\n",
      "0.0048356318463573\n",
      "-0.005738186837380777\n"
     ]
    }
   ],
   "source": [
    "print(' M_Method:')\n",
    "print(newton(f_m, df_dx_m, 0.1, debug=True))"
   ]
  },
  {
   "cell_type": "markdown",
   "metadata": {},
   "source": [
    "Alle shcemaene brukte like mye iterasjoner til de finner mest så strekkelig tilnærmet løsningen. Men Nøyaktigheten varierer litt grann.\n",
    "\n",
    "Eksakt -----> -0.004841197784757431\n",
    "Implisitt---> -0.005072268573618435\n",
    "Crank ------> -0.004579365342998316\n",
    "Den siste--->- 0.005738186837380777 \n",
    "\n"
   ]
  }
 ],
 "metadata": {
  "kernelspec": {
   "display_name": "Python 3",
   "language": "python",
   "name": "python3"
  },
  "language_info": {
   "codemirror_mode": {
    "name": "ipython",
    "version": 3
   },
   "file_extension": ".py",
   "mimetype": "text/x-python",
   "name": "python",
   "nbconvert_exporter": "python",
   "pygments_lexer": "ipython3",
   "version": "3.7.4"
  }
 },
 "nbformat": 4,
 "nbformat_minor": 2
}
