{
 "cells": [
  {
   "cell_type": "markdown",
   "metadata": {},
   "source": [
    "# Arbeidskrav 7: ikkelineære algebraiske ligninger\n",
    "\n",
    "Gitt følgende ODE:\n",
    "$$\n",
    "u'(t) = e^-u, \\quad u(0) = 0\n",
    "$$\n",
    "\n",
    "Utled og implementer et eksplisitt numerisk skjema for ODE-en."
   ]
  },
  {
   "cell_type": "markdown",
   "metadata": {},
   "source": []
  },
  {
   "cell_type": "code",
   "execution_count": null,
   "metadata": {},
   "outputs": [],
   "source": []
  },
  {
   "cell_type": "markdown",
   "metadata": {},
   "source": [
    "Utled et implisitt Euler-skjema for ODE-en. Det vil dukke opp en ligning som ikke uten videre lar seg løse med blyant og papir. Bruk Newtons metode for å løse denne ligningen på hvert tidsskritt. Implementer løsningen."
   ]
  },
  {
   "cell_type": "markdown",
   "metadata": {},
   "source": []
  },
  {
   "cell_type": "code",
   "execution_count": null,
   "metadata": {},
   "outputs": [],
   "source": []
  },
  {
   "cell_type": "markdown",
   "metadata": {},
   "source": [
    "Sett $\\Delta t = 1/100$ og beregn numeriske løsninger for $t \\in [0, 1]$ for de to skjemaene over."
   ]
  },
  {
   "cell_type": "code",
   "execution_count": null,
   "metadata": {},
   "outputs": [],
   "source": []
  },
  {
   "cell_type": "markdown",
   "metadata": {},
   "source": [
    "Vis at $u(t) = ln(1 + t)$ er en eksakt løsning av ODE-en. Bruk dette til å undersøke nøyaktigheten av de to skjemaene."
   ]
  },
  {
   "cell_type": "markdown",
   "metadata": {},
   "source": []
  },
  {
   "cell_type": "markdown",
   "metadata": {},
   "source": [
    "Betrakt skjemaet\n",
    "$$\n",
    "\\frac{u_{n + 1} - u_n}{\\Delta t} = \\frac12(e^{-u_n} + e^{-u_{n + 1}})\n",
    "$$\n",
    "Bruk Newtons metode for å løse ligningen som oppstår på hvert tidsskritt. Implementer skjemaet og sammenlign nøyaktigheten med eksplisitt og implisitt skjema over."
   ]
  },
  {
   "cell_type": "code",
   "execution_count": null,
   "metadata": {},
   "outputs": [],
   "source": []
  },
  {
   "cell_type": "markdown",
   "metadata": {},
   "source": [
    "Og gjør det samme med skjemaet\n",
    "$$\n",
    "\\frac{u_{n + 1} - u_n}{\\Delta t} = e^{-\\frac12(u_n + u_{n + 1})}\n",
    "$$"
   ]
  },
  {
   "cell_type": "code",
   "execution_count": null,
   "metadata": {},
   "outputs": [],
   "source": []
  }
 ],
 "metadata": {
  "kernelspec": {
   "display_name": "Python 3",
   "language": "python",
   "name": "python3"
  },
  "language_info": {
   "codemirror_mode": {
    "name": "ipython",
    "version": 3
   },
   "file_extension": ".py",
   "mimetype": "text/x-python",
   "name": "python",
   "nbconvert_exporter": "python",
   "pygments_lexer": "ipython3",
   "version": "3.6.7"
  }
 },
 "nbformat": 4,
 "nbformat_minor": 2
}
