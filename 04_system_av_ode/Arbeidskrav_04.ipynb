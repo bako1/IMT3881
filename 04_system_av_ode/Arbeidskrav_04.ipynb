{
 "cells": [
  {
   "cell_type": "markdown",
   "metadata": {},
   "source": [
    "# Arbeidskrav 4: system av ordinære differensialligninger\n",
    "\n",
    "Ta utgangspunkt i modulen `ode` fra forrige uke og utvid den slik at funksjonen `eksplisitt` fungerer også for et system av differensialligninger ved å la funksjonen `f` returnere en array med de deriverte, og `y_0` være en array. Vis at den fungerer ved å anvende den på et av systemene vi har brukt som eksempler."
   ]
  },
  {
   "cell_type": "code",
   "execution_count": null,
   "metadata": {},
   "outputs": [],
   "source": []
  },
  {
   "cell_type": "markdown",
   "metadata": {},
   "source": [
    "## Ekstra (ikke obligatorisk)\n",
    "\n",
    "Utvid funksjonen `heun` slik at den også virker for et system av differensialligninger og vis at den fungerer."
   ]
  },
  {
   "cell_type": "code",
   "execution_count": null,
   "metadata": {},
   "outputs": [],
   "source": []
  }
 ],
 "metadata": {
  "kernelspec": {
   "display_name": "Python 3",
   "language": "python",
   "name": "python3"
  },
  "language_info": {
   "codemirror_mode": {
    "name": "ipython",
    "version": 3
   },
   "file_extension": ".py",
   "mimetype": "text/x-python",
   "name": "python",
   "nbconvert_exporter": "python",
   "pygments_lexer": "ipython3",
   "version": "3.6.7"
  }
 },
 "nbformat": 4,
 "nbformat_minor": 2
}
