{
 "cells": [
  {
   "cell_type": "markdown",
   "metadata": {},
   "source": [
    "# Arbeidskrav 4: system av ordinære differensialligninger\n",
    "\n",
    "Et system av differensialligninger, f.eks.\n",
    "\n",
    "$$\n",
    "\\begin{aligned}\n",
    "x'(t) &= f(x, y, z) \\\\\n",
    "y'(t) &= g(x, y, z) \\\\\n",
    "z'(t) &= h(x, y, z)\n",
    "\\end{aligned}\n",
    "$$\n",
    "\n",
    "kan skrives på vektorform ved å innføre $\\mathbf{y} = [x, y, z]$ og $\\mathbf{f}(\\mathbf{x}) = [f(x, y, z), g(x, y, z), h(x, y, z)]$ som\n",
    "\n",
    "$$\n",
    "\\mathbf{y}'(t) = \\mathbf{f}(\\mathbf{y}).\n",
    "$$\n",
    "\n",
    "Bruke denne observasjonen, og ta utgangspunkt i modulen `ode` fra forrige uke og utvid den slik at funksjonen `eksplisitt` fungerer også for et system av differensialligninger ved å la funksjonen `f` returnere en array med de deriverte, og `y_0` være en array. Vis at den fungerer ved å anvende den på et av systemene vi har brukt som eksempler. Løsningen skal fungere for systemer av vilkårlig mange differensialligninger."
   ]
  },
  {
   "cell_type": "code",
   "execution_count": 201,
   "metadata": {},
   "outputs": [
    {
     "name": "stdout",
     "output_type": "stream",
     "text": [
      "[0. 0. 0.]\n"
     ]
    },
    {
     "data": {
      "text/plain": [
       "array([[3., 3., 3.],\n",
       "       [3., 3., 3.],\n",
       "       [0., 0., 0.]])"
      ]
     },
     "execution_count": 201,
     "metadata": {},
     "output_type": "execute_result"
    }
   ],
   "source": [
    "import numpy as np\n",
    "import matplotlib.pyplot as plt\n",
    "%matplotlib inline\n",
    "\n",
    "def f(y):\n",
    "     \n",
    "        \n",
    "   \n",
    "    T = 20\n",
    "    N = int(T / dt + 1)\n",
    "    t = np.linspace(0, T, N)\n",
    "    y = np.zeros((len(t), 3)) # N x 3 array for f,g og h\n",
    "    \n",
    "   \n",
    "    y[[0,0,0,0]]=2\n",
    "    \n",
    "    y[[1,0]]=3\n",
    "    \n",
    "   \n",
    "    \n",
    "    print(y[2])\n",
    "    \n",
    "    return np.array([ y[0],y[1],y[2]])\n",
    "\n",
    "\n",
    "b=[2,7,7]\n",
    "a=f(b)\n",
    "a"
   ]
  },
  {
   "cell_type": "code",
   "execution_count": 150,
   "metadata": {},
   "outputs": [],
   "source": [
    "def eksplisitt(f, n, t0, t_end, y0):\n",
    "    \n",
    "    \n",
    "    #delta_t = (t_end - t0) / n\n",
    "    delta_t=1/100\n",
    "    f0 = 1.9\n",
    "    g0 = 0.1\n",
    "    h0=0\n",
    "    \n",
    "   # y[0, 0, 0] = f0\n",
    "    #y[0, 1, 0] = g0\n",
    "    #y[0, 0, 1] = h0\n",
    "    \n",
    "    \n",
    "    for i in range(N-1):\n",
    "        y[i+1]=y[i]+dt*f(y[i])\n",
    "        \n",
    "        \n",
    "    \n",
    "        \n",
    "    \"\"\" \n",
    "    \n",
    "    Løs ode-en med eksplisitt metode.\n",
    "\n",
    "    Løser y' = f(y) for y(t) fra t0 til t_end i n steg med y(t0) = y0.\n",
    "\n",
    "    Paramters\n",
    "    ---------\n",
    "    f : func\n",
    "        Funksjonen som beskriver differensialligningen\n",
    "    n : int\n",
    "        Antall steg\n",
    "    t0 : float\n",
    "        Starttidspunkt\n",
    "    t_end: float\n",
    "        Sluttidspunkt\n",
    "    y0 : float\n",
    "        Initialverdi\n",
    "\n",
    "    Returns\n",
    "    -------\n",
    "    array:\n",
    "        Beregnede verdier for y(t)\n",
    "        \"\"\"\n",
    "   \n",
    "    return y"
   ]
  },
  {
   "cell_type": "code",
   "execution_count": 102,
   "metadata": {},
   "outputs": [
    {
     "ename": "ValueError",
     "evalue": "operands could not be broadcast together with shapes (2,) (3,3) ",
     "output_type": "error",
     "traceback": [
      "\u001b[0;31m---------------------------------------------------------------------------\u001b[0m",
      "\u001b[0;31mValueError\u001b[0m                                Traceback (most recent call last)",
      "\u001b[0;32m<ipython-input-102-eef5db2b288c>\u001b[0m in \u001b[0;36m<module>\u001b[0;34m\u001b[0m\n\u001b[1;32m      2\u001b[0m \u001b[0mt1\u001b[0m\u001b[0;34m=\u001b[0m\u001b[0;34m[\u001b[0m\u001b[0;36m1\u001b[0m\u001b[0;34m]\u001b[0m\u001b[0;34m\u001b[0m\u001b[0;34m\u001b[0m\u001b[0m\n\u001b[1;32m      3\u001b[0m \u001b[0mt2\u001b[0m\u001b[0;34m=\u001b[0m\u001b[0;34m[\u001b[0m\u001b[0;36m4\u001b[0m\u001b[0;34m]\u001b[0m\u001b[0;34m\u001b[0m\u001b[0;34m\u001b[0m\u001b[0m\n\u001b[0;32m----> 4\u001b[0;31m \u001b[0meksplisitt\u001b[0m\u001b[0;34m(\u001b[0m\u001b[0mf\u001b[0m\u001b[0;34m,\u001b[0m\u001b[0;36m4\u001b[0m\u001b[0;34m,\u001b[0m\u001b[0mt1\u001b[0m\u001b[0;34m,\u001b[0m\u001b[0mt2\u001b[0m\u001b[0;34m,\u001b[0m\u001b[0mb\u001b[0m\u001b[0;34m)\u001b[0m\u001b[0;34m\u001b[0m\u001b[0;34m\u001b[0m\u001b[0m\n\u001b[0m",
      "\u001b[0;32m<ipython-input-101-a43050d6ff27>\u001b[0m in \u001b[0;36meksplisitt\u001b[0;34m(f, n, t0, t_end, y0)\u001b[0m\n\u001b[1;32m     14\u001b[0m \u001b[0;34m\u001b[0m\u001b[0m\n\u001b[1;32m     15\u001b[0m     \u001b[0;32mfor\u001b[0m \u001b[0mi\u001b[0m \u001b[0;32min\u001b[0m \u001b[0mrange\u001b[0m\u001b[0;34m(\u001b[0m\u001b[0mN\u001b[0m\u001b[0;34m-\u001b[0m\u001b[0;36m1\u001b[0m\u001b[0;34m)\u001b[0m\u001b[0;34m:\u001b[0m\u001b[0;34m\u001b[0m\u001b[0;34m\u001b[0m\u001b[0m\n\u001b[0;32m---> 16\u001b[0;31m         \u001b[0my\u001b[0m\u001b[0;34m[\u001b[0m\u001b[0mi\u001b[0m\u001b[0;34m+\u001b[0m\u001b[0;36m1\u001b[0m\u001b[0;34m]\u001b[0m\u001b[0;34m=\u001b[0m\u001b[0my\u001b[0m\u001b[0;34m[\u001b[0m\u001b[0mi\u001b[0m\u001b[0;34m]\u001b[0m\u001b[0;34m+\u001b[0m\u001b[0mdt\u001b[0m\u001b[0;34m*\u001b[0m\u001b[0mf\u001b[0m\u001b[0;34m(\u001b[0m\u001b[0my\u001b[0m\u001b[0;34m[\u001b[0m\u001b[0mi\u001b[0m\u001b[0;34m]\u001b[0m\u001b[0;34m)\u001b[0m\u001b[0;34m\u001b[0m\u001b[0;34m\u001b[0m\u001b[0m\n\u001b[0m\u001b[1;32m     17\u001b[0m \u001b[0;34m\u001b[0m\u001b[0m\n\u001b[1;32m     18\u001b[0m \u001b[0;34m\u001b[0m\u001b[0m\n",
      "\u001b[0;31mValueError\u001b[0m: operands could not be broadcast together with shapes (2,) (3,3) "
     ]
    }
   ],
   "source": [
    "b=[2,3,1]\n",
    "t1=[1]\n",
    "t2=[4]\n",
    "eksplisitt(f,4,t1,t2,b)"
   ]
  },
  {
   "cell_type": "markdown",
   "metadata": {},
   "source": [
    "## Ekstra (ikke obligatorisk)\n",
    "\n",
    "Utvid funksjonen `heun` slik at den også virker for et system av differensialligninger og vis at den fungerer."
   ]
  },
  {
   "cell_type": "code",
   "execution_count": null,
   "metadata": {},
   "outputs": [],
   "source": []
  },
  {
   "cell_type": "code",
   "execution_count": null,
   "metadata": {},
   "outputs": [],
   "source": []
  }
 ],
 "metadata": {
  "kernelspec": {
   "display_name": "Python 3",
   "language": "python",
   "name": "python3"
  },
  "language_info": {
   "codemirror_mode": {
    "name": "ipython",
    "version": 3
   },
   "file_extension": ".py",
   "mimetype": "text/x-python",
   "name": "python",
   "nbconvert_exporter": "python",
   "pygments_lexer": "ipython3",
   "version": "3.7.4"
  }
 },
 "nbformat": 4,
 "nbformat_minor": 2
}
