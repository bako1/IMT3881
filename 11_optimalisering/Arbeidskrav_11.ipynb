{
 "cells": [
  {
   "cell_type": "markdown",
   "metadata": {},
   "source": [
    "# Arbeidskrav 11: optimalisering\n",
    "\n",
    "Gjør den andre oppgaven – «A locally flat minimum» – fra 2.7.5.4 i [SLN](https://scipy-lectures.org/advanced/mathematical_optimization/index.html#synthetic-exercices):\n",
    "\n",
    "Betrakt funksjonen\n",
    "$$\n",
    "f(x, y) = \\exp\\left(-\\frac{1}{x^2 / 100 + y^2}\\right).\n",
    "$$\n",
    "Funksjonen har et veldig flatt minimum for $(x, y) = (0, 0)$. Bruke _flere ulike metoder_ for å fine dette numerisk med utgangsgjett $(x, y) = (1, 1)$ med en nøyaktighet $10^{-8}$."
   ]
  },
  {
   "cell_type": "code",
   "execution_count": null,
   "metadata": {},
   "outputs": [],
   "source": []
  }
 ],
 "metadata": {
  "kernelspec": {
   "display_name": "Python 3",
   "language": "python",
   "name": "python3"
  },
  "language_info": {
   "codemirror_mode": {
    "name": "ipython",
    "version": 3
   },
   "file_extension": ".py",
   "mimetype": "text/x-python",
   "name": "python",
   "nbconvert_exporter": "python",
   "pygments_lexer": "ipython3",
   "version": "3.6.7"
  }
 },
 "nbformat": 4,
 "nbformat_minor": 2
}
