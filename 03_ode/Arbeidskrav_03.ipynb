{
 "cells": [
  {
   "cell_type": "markdown",
   "metadata": {},
   "source": [
    "# Arbeidskrav 3: ordinære diff.ligninger\n",
    "\n",
    "Skjemaet for Crank-Nicolson-metoden for den generelle differensiallingningen\n",
    "$$\n",
    "y'(t) = f(y)\n",
    "$$\n",
    "er gitt som «gjennomsnittet» av eksplisitt og implisitt metode, nemlig\n",
    "$$\n",
    "\\frac{y_{n+1} - y_n}{\\Delta t} = \\frac12 (f(y_n) + f(y_{n+1})).\n",
    "$$\n",
    "\n",
    "Differensialligningen for eksponensiell vekst kan skrives\n",
    "$$\n",
    "y'(t) = a y(t), \\quad y(0) = y_0.\n",
    "$$\n",
    "For denne differensialligningen er altså $f(y) = ay$.\n",
    "\n",
    "Utled Crank-Nicolson-skjemaet for eksponensiell vekst."
   ]
  },
  {
   "cell_type": "markdown",
   "metadata": {},
   "source": []
  },
  {
   "cell_type": "markdown",
   "metadata": {},
   "source": [
    "$\n",
    "y'_n = a f(y)\n",
    "$\n",
    "\n",
    "Eksplisit: \n",
    "------------\n",
    "$$\\frac{y_{n+1}  -  y_n}{\\Delta t}={f(y_n) }=ay_n$$\n",
    "\n",
    "\n",
    "Implisitt:\n",
    "-----------\n",
    "$$\\frac {y_{n+1}-y_n}{\\Delta t}={f(y_{n+1})}=ay_{n+1}$$\n",
    "\n",
    "Crank_nicolson\n",
    "-----------------------\n",
    "$$\\frac {y_{n+1} -y_n}{\\Delta t} = \\frac{1}2 (a y_n+a y_{n+1})$$\n",
    "\n",
    "$$y_{n+1} -y_n = \\frac{1}2 \\Delta t (a y_n+a y_{n+1})$$\n",
    "\n",
    "$$y_{n+1} = \\frac{1}2 \\Delta t (a y_n+a y_{n+1})+ y_n $$\n",
    "\n",
    "$$y_{n+1}=\\frac {a\\Delta t y_n}2 + \\frac{a \\Delta t y_{n+1}}2 + y_n $$\n",
    "\n",
    "$$y_{n+1}-\\frac{a \\Delta t y_{n+1}}2=\\frac {a\\Delta t y_n}2$$\n",
    "\n",
    "$$y_{n+1}(1-\\frac {a\\Delta t }2)=y_n(1+\\frac{a\\Delta t}2)$$\n",
    "\n",
    "$$y_{n+1}=y_n(1+\\frac {a\\Delta t }2)*(\\frac 1{1-\\frac {a \\Delta t}2})$$\n",
    "\n",
    "$$y_{n+1}=\\frac {1+\\frac {a\\Delta t }2}{1-\\frac {a \\Delta t}2}y_n$$"
   ]
  },
  {
   "cell_type": "markdown",
   "metadata": {},
   "source": [
    "Implementer skjemaet og plott resultatene. Dette kan gjerne gjøres ved å definiere en funksjon `crank_nicolson(N, T, a, y_0)` som returnerer en `array` med $y$-verdiene. Her er `N` antall tidsskritt, `T` tidsintervallet, mens `a` og `y_0` svarer til $a$ og $y_0$."
   ]
  },
  {
   "cell_type": "markdown",
   "metadata": {},
   "source": []
  },
  {
   "cell_type": "markdown",
   "metadata": {},
   "source": [
    "Sammenlign nøyaktigheten med eksplisitt og implisitt skjema for ulike tidsskritt ved å plotte alle sammen med den eksakte løsningen. Bruk f.eks. verdiene 2, 5 og 10 for `N`."
   ]
  },
  {
   "cell_type": "code",
   "execution_count": 1,
   "metadata": {},
   "outputs": [
    {
     "ename": "NameError",
     "evalue": "name 'N' is not defined",
     "output_type": "error",
     "traceback": [
      "\u001b[0;31m---------------------------------------------------------------------------\u001b[0m",
      "\u001b[0;31mNameError\u001b[0m                                 Traceback (most recent call last)",
      "\u001b[0;32m<ipython-input-1-ebf9a0c84dd3>\u001b[0m in \u001b[0;36m<module>\u001b[0;34m\u001b[0m\n\u001b[1;32m     46\u001b[0m \u001b[0;34m\u001b[0m\u001b[0m\n\u001b[1;32m     47\u001b[0m \u001b[0;34m\u001b[0m\u001b[0m\n\u001b[0;32m---> 48\u001b[0;31m \u001b[0mn\u001b[0m\u001b[0;34m=\u001b[0m\u001b[0mnp\u001b[0m\u001b[0;34m.\u001b[0m\u001b[0marange\u001b[0m\u001b[0;34m(\u001b[0m\u001b[0mN\u001b[0m\u001b[0;34m)\u001b[0m\u001b[0;34m\u001b[0m\u001b[0;34m\u001b[0m\u001b[0m\n\u001b[0m\u001b[1;32m     49\u001b[0m \u001b[0mT\u001b[0m\u001b[0;34m=\u001b[0m\u001b[0;36m2\u001b[0m\u001b[0;34m\u001b[0m\u001b[0;34m\u001b[0m\u001b[0m\n\u001b[1;32m     50\u001b[0m \u001b[0mN\u001b[0m\u001b[0;34m=\u001b[0m\u001b[0;36m10\u001b[0m\u001b[0;34m\u001b[0m\u001b[0;34m\u001b[0m\u001b[0m\n",
      "\u001b[0;31mNameError\u001b[0m: name 'N' is not defined"
     ]
    }
   ],
   "source": [
    "import numpy as np\n",
    "import matplotlib.pyplot as plt\n",
    "import matplotlib.pyplot as plt\n",
    "\n",
    "%matplotlib inline\n",
    "\n",
    "def eksplisitt(N,T,a,y_0):\n",
    "\n",
    "    delta_t = T/N\n",
    "    y_verdier_eks = np.zeros(N + 1) \n",
    "    n_verdier = np.arange(N + 1)\n",
    "    t_verdier = delta_t * n_verdier\n",
    "    y_verdier_eks[0] = y_0\n",
    "    for i in range(N):\n",
    "        y_verdier_eks[i + 1] = delta_t*a*y_verdier_eks[i]+y_verdier_eks[i]\n",
    "    plt.plot(t_verdier, y_verdier_eks)\n",
    "    return y_verdier_eks\n",
    "\n",
    "def crank_nicolson(N,T,a,y_0):\n",
    "\n",
    "    delta_t = T/N\n",
    "    y_verdier_crank = np.zeros(N + 1) \n",
    "    n_verdier = np.arange(N + 1)\n",
    "    t_verdier = delta_t * n_verdier\n",
    "    y_verdier_crank[0] = y_0\n",
    "    for i in range(N):\n",
    "        y_verdier_crank[i + 1] = y_verdier_crank[i]*((1+ a*delta_t*0.5)/(1-a*delta_t*0.5))\n",
    "    plt.plot(t_verdier, y_verdier_crank)\n",
    "\n",
    "    return y_verdier_crank\n",
    "\n",
    "\n",
    "\n",
    "def implisitt(N,T,a,y_0):\n",
    "    delta_t = T/N\n",
    "    n_verdier = np.arange(N + 1)\n",
    "    y_verdier_impl = np.zeros(N + 1)  \n",
    "    y_verdier_impl[0] = y_0\n",
    "    t_verdier = delta_t * n_verdier\n",
    "   \n",
    "    \n",
    "    for i in range(N):\n",
    "        y_verdier_impl[i + 1] = y_verdier_impl[i]/(1-a*delta_t)\n",
    "    plt.plot(t_verdier, y_verdier_impl)\n",
    "    return y_verdier_impl\n",
    "\n",
    "\n",
    "n=np.arange(N)\n",
    "T=2\n",
    "N=10\n",
    "dlt=(T/N)\n",
    "t_v=dlt*n\n",
    "\n",
    "aa=1\n",
    "plt.title(\"Når N = 10\")\n",
    "eksplisitt(10,2,1,1)\n",
    "implisitt(10,2,1,1)\n",
    "crank_nicolson(10,2,1,1)\n",
    "plt.plot(t_v,np.exp(t_v))\n",
    "plt.legend([\"Ekspl\",\"Impl\",\"Crank_N\",\"exact\"])\n"
   ]
  },
  {
   "cell_type": "code",
   "execution_count": 78,
   "metadata": {},
   "outputs": [
    {
     "data": {
      "text/plain": [
       "<matplotlib.legend.Legend at 0x7efe941a7d50>"
      ]
     },
     "execution_count": 78,
     "metadata": {},
     "output_type": "execute_result"
    },
    {
     "data": {
      "image/png": "[encoded data removed]",
      "text/plain": [
       "<Figure size 432x288 with 1 Axes>"
      ]
     },
     "metadata": {
      "needs_background": "light"
     },
     "output_type": "display_data"
    }
   ],
   "source": [
    "\n",
    "plt.title(\"Når N = 5\")\n",
    "eksplisitt(5,2,1,1)\n",
    "implisitt(5,2,1,1)\n",
    "crank_nicolson(5,2,1,1)\n",
    "N=5\n",
    "plt.plot(t_v,np.exp(t_v))\n",
    "\n",
    "plt.legend([\"Ekspl\",\"Impl\",\"Crank_N\",\"exact\"])\n",
    "\n"
   ]
  },
  {
   "cell_type": "code",
   "execution_count": 4,
   "metadata": {},
   "outputs": [
    {
     "ename": "NameError",
     "evalue": "name 't_v' is not defined",
     "output_type": "error",
     "traceback": [
      "\u001b[0;31m---------------------------------------------------------------------------\u001b[0m",
      "\u001b[0;31mNameError\u001b[0m                                 Traceback (most recent call last)",
      "\u001b[0;32m<ipython-input-4-b10e28e0f16d>\u001b[0m in \u001b[0;36m<module>\u001b[0;34m\u001b[0m\n\u001b[1;32m      5\u001b[0m \u001b[0mN\u001b[0m\u001b[0;34m=\u001b[0m\u001b[0;36m2\u001b[0m\u001b[0;34m\u001b[0m\u001b[0;34m\u001b[0m\u001b[0m\n\u001b[1;32m      6\u001b[0m \u001b[0mT\u001b[0m\u001b[0;34m=\u001b[0m\u001b[0;36m1\u001b[0m\u001b[0;34m\u001b[0m\u001b[0;34m\u001b[0m\u001b[0m\n\u001b[0;32m----> 7\u001b[0;31m \u001b[0mplt\u001b[0m\u001b[0;34m.\u001b[0m\u001b[0mplot\u001b[0m\u001b[0;34m(\u001b[0m\u001b[0mt_v\u001b[0m\u001b[0;34m,\u001b[0m\u001b[0mnp\u001b[0m\u001b[0;34m.\u001b[0m\u001b[0mexp\u001b[0m\u001b[0;34m(\u001b[0m\u001b[0mt_v\u001b[0m\u001b[0;34m)\u001b[0m\u001b[0;34m)\u001b[0m\u001b[0;34m\u001b[0m\u001b[0;34m\u001b[0m\u001b[0m\n\u001b[0m\u001b[1;32m      8\u001b[0m \u001b[0;34m\u001b[0m\u001b[0m\n\u001b[1;32m      9\u001b[0m \u001b[0mplt\u001b[0m\u001b[0;34m.\u001b[0m\u001b[0mlegend\u001b[0m\u001b[0;34m(\u001b[0m\u001b[0;34m[\u001b[0m\u001b[0;34m\"Ekspl\"\u001b[0m\u001b[0;34m,\u001b[0m\u001b[0;34m\"Impl\"\u001b[0m\u001b[0;34m,\u001b[0m\u001b[0;34m\"Crank_N\"\u001b[0m\u001b[0;34m,\u001b[0m\u001b[0;34m\"exact\"\u001b[0m\u001b[0;34m]\u001b[0m\u001b[0;34m)\u001b[0m\u001b[0;34m\u001b[0m\u001b[0;34m\u001b[0m\u001b[0m\n",
      "\u001b[0;31mNameError\u001b[0m: name 't_v' is not defined"
     ]
    },
    {
     "data": {
      "image/png": "[encoded data removed]",
      "text/plain": [
       "<Figure size 432x288 with 1 Axes>"
      ]
     },
     "metadata": {
      "needs_background": "light"
     },
     "output_type": "display_data"
    }
   ],
   "source": [
    "plt.title(\"Når N = 2\")\n",
    "eksplisitt(2,1,1,1)\n",
    "implisitt(2,1,1,1)\n",
    "crank_nicolson(2,1,1,1)\n",
    "N=2\n",
    "T=1\n",
    "plt.plot(t_v,np.exp(t_v))\n",
    "\n",
    "plt.legend([\"Ekspl\",\"Impl\",\"Crank_N\",\"exact\"])\n"
   ]
  },
  {
   "cell_type": "code",
   "execution_count": null,
   "metadata": {},
   "outputs": [],
   "source": []
  }
 ],
 "metadata": {
  "kernelspec": {
   "display_name": "Python 3",
   "language": "python",
   "name": "python3"
  },
  "language_info": {
   "codemirror_mode": {
    "name": "ipython",
    "version": 3
   },
   "file_extension": ".py",
   "mimetype": "text/x-python",
   "name": "python",
   "nbconvert_exporter": "python",
   "pygments_lexer": "ipython3",
   "version": "3.7.4"
  }
 },
 "nbformat": 4,
 "nbformat_minor": 2
}
