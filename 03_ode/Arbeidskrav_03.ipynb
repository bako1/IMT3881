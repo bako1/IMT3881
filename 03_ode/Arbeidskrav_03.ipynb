{
 "cells": [
  {
   "cell_type": "markdown",
   "metadata": {},
   "source": [
    "# Arbeidskrav 3: ordinære diff.ligninger\n",
    "\n",
    "Skjemaet for Crank-Nicolson-metoden for den generelle differensiallingningen\n",
    "$$\n",
    "y'(t) = f(y)\n",
    "$$\n",
    "er gitt som «gjennomsnittet» av eksplisitt og implisitt metode, nemlig\n",
    "$$\n",
    "\\frac{y_{n+1} - y_n}{\\Delta t} = \\frac12 (f(y_n) + f(y_{n+1})).\n",
    "$$\n",
    "\n",
    "Differensialligningen for eksponensiell vekst kan skrives\n",
    "$$\n",
    "y'(t) = a y(t), \\quad y(0) = y_0.\n",
    "$$\n",
    "For denne differensialligningen er altså $f(y) = ay$.\n",
    "\n",
    "Utled Crank-Nicolson-skjemaet for eksponensiell vekst."
   ]
  },
  {
   "cell_type": "markdown",
   "metadata": {},
   "source": []
  },
  {
   "cell_type": "markdown",
   "metadata": {},
   "source": [
    "Implementer skjemaet og plott resultatene. Dette kan gjerne gjøres ved å definiere en funksjon `crank_nicolson(N, T, a, y_0)` som returnerer en `array` med $y$-verdiene. Her er `N` antall tidsskritt, `T` tidsintervallet, mens `a` og `y_0` svarer til $a$ og $y_0$."
   ]
  },
  {
   "cell_type": "code",
   "execution_count": null,
   "metadata": {},
   "outputs": [],
   "source": []
  },
  {
   "cell_type": "markdown",
   "metadata": {},
   "source": [
    "Sammenlign nøyaktigheten med eksplisitt og implisitt skjema for ulike tidsskritt ved å plotte alle sammen med den eksakte løsningen. Bruk f.eks. verdiene 2, 5 og 10 for `N`."
   ]
  },
  {
   "cell_type": "code",
   "execution_count": null,
   "metadata": {},
   "outputs": [],
   "source": []
  }
 ],
 "metadata": {
  "kernelspec": {
   "display_name": "Python 3",
   "language": "python",
   "name": "python3"
  },
  "language_info": {
   "codemirror_mode": {
    "name": "ipython",
    "version": 3
   },
   "file_extension": ".py",
   "mimetype": "text/x-python",
   "name": "python",
   "nbconvert_exporter": "python",
   "pygments_lexer": "ipython3",
   "version": "3.6.9"
  }
 },
 "nbformat": 4,
 "nbformat_minor": 2
}
