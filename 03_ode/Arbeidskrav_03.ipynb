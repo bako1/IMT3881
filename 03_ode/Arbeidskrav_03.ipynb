{
 "cells": [
  {
   "cell_type": "markdown",
   "metadata": {},
   "source": [
    "# Arbeidskrav 3: ordinære diff.ligninger\n",
    "\n",
    "Skjemaet for Crank-Nicolson-metoden for den generelle differensiallingningen\n",
    "$$\n",
    "y'(t) = f(y)\n",
    "$$\n",
    "er gitt som «gjennomsnittet» av eksplisitt og implisitt metode, nemlig\n",
    "$$\n",
    "\\frac{y_{n+1} - y_n}{\\Delta t} = \\frac12 (f(y_n) + f(y_{n+1})).\n",
    "$$\n",
    "\n",
    "Differensialligningen for eksponensiell vekst kan skrives\n",
    "$$\n",
    "y'(t) = a y(t), \\quad y(0) = y_0.\n",
    "$$\n",
    "For denne differensialligningen er altså $f(y) = ay$.\n",
    "\n",
    "Utled Crank-Nicolson-skjemaet for eksponensiell vekst."
   ]
  },
  {
   "cell_type": "markdown",
   "metadata": {},
   "source": []
  },
  {
   "cell_type": "markdown",
   "metadata": {},
   "source": [
    "$\n",
    "y'_n = a f(y)\n",
    "$\n",
    "\n",
    "Eksplisit: \n",
    "------------\n",
    "$$\\frac{y_{n+1}  -  y_n}{\\Delta t}={f(y_n) }=ay_n$$\n",
    "\n",
    "\n",
    "Implisitt:\n",
    "-----------\n",
    "$$\\frac {y_{n+1}-y_n}{\\Delta t}={f(y_{n+1})}=ay_{n+1}$$\n",
    "\n",
    "Crank_nicolson\n",
    "-----------------------\n",
    "$$\\frac {y_{n+1} -y_n}{\\Delta t} = \\frac{1}2 (a y_n+a y_{n+1})$$\n",
    "\n",
    "$$y_{n+1} -y_n = \\frac{1}2 \\Delta t (a y_n+a y_{n+1})$$\n",
    "\n",
    "$$y_{n+1} = \\frac{1}2 \\Delta t (a y_n+a y_{n+1})+ y_n $$\n",
    "\n",
    "$$y_{n+1}=\\frac {a\\Delta t y_n}2 + \\frac{a \\Delta t y_{n+1}}2 + y_n $$\n",
    "\n",
    "$$y_{n+1}-\\frac{a \\Delta t y_{n+1}}2=\\frac {a\\Delta t y_n}2$$\n",
    "\n",
    "$$y_{n+1}(1-\\frac {a\\Delta t }2)=y_n(1+\\frac{a\\Delta t}2)$$\n",
    "\n",
    "$$y_{n+1}=y_n(1+\\frac {a\\Delta t }2)*(\\frac 1{1-\\frac {a \\Delta t}2})$$\n",
    "\n",
    "$$y_{n+1}=\\frac {1+\\frac {a\\Delta t }2}{1-\\frac {a \\Delta t}2}y_n$$"
   ]
  },
  {
   "cell_type": "markdown",
   "metadata": {},
   "source": [
    "Implementer skjemaet og plott resultatene. Dette kan gjerne gjøres ved å definiere en funksjon `crank_nicolson(N, T, a, y_0)` som returnerer en `array` med $y$-verdiene. Her er `N` antall tidsskritt, `T` tidsintervallet, mens `a` og `y_0` svarer til $a$ og $y_0$."
   ]
  },
  {
   "cell_type": "markdown",
   "metadata": {},
   "source": []
  },
  {
   "cell_type": "markdown",
   "metadata": {},
   "source": [
    "Sammenlign nøyaktigheten med eksplisitt og implisitt skjema for ulike tidsskritt ved å plotte alle sammen med den eksakte løsningen. Bruk f.eks. verdiene 2, 5 og 10 for `N`."
   ]
  },
  {
   "cell_type": "code",
   "execution_count": 39,
   "metadata": {},
   "outputs": [
    {
     "data": {
      "text/plain": [
       "array([1.        , 1.2       , 1.44      , 1.728     , 2.0736    ,\n",
       "       2.48832   , 2.985984  , 3.5831808 , 4.29981696, 5.15978035,\n",
       "       6.19173642])"
      ]
     },
     "execution_count": 39,
     "metadata": {},
     "output_type": "execute_result"
    },
    {
     "data": {
      "image/png": "[encoded data removed]",
      "text/plain": [
       "<Figure size 432x288 with 1 Axes>"
      ]
     },
     "metadata": {
      "needs_background": "light"
     },
     "output_type": "display_data"
    }
   ],
   "source": [
    "from numpy import zeros, linspace\n",
    "import numpy as np\n",
    "import matplotlib.pyplot  as plt\n",
    "%matplotlib inline\n",
    "def eksplisit(N,T,a,y_0):\n",
    "    delta_t=T/N\n",
    "    n_verdier=np.arange(N+1)\n",
    "    t_verdier=n_verdier*delta_t\n",
    "    y_verdier_ekspl=np.zeros(N+1)\n",
    "    y_verdier_ekspl[0] = y_0\n",
    "    for i in range(N):\n",
    "        y_verdier_ekspl[i+1]=delta_t*y_verdier_ekspl[i]+y_verdier_ekspl[i]\n",
    "    plt.plot(t_verdier,y_verdier_ekspl)\n",
    "    plt.plot(t_verdier, np.exp(t_verdier*a)*np.exp(y_0))\n",
    "\n",
    "    return y_verdier_ekspl\n",
    "\n",
    "\n",
    "eksplisit(10,2,1,1)\n",
    "    "
   ]
  },
  {
   "cell_type": "code",
   "execution_count": null,
   "metadata": {},
   "outputs": [],
   "source": []
  },
  {
   "cell_type": "code",
   "execution_count": null,
   "metadata": {},
   "outputs": [],
   "source": []
  }
 ],
 "metadata": {
  "kernelspec": {
   "display_name": "Python 3",
   "language": "python",
   "name": "python3"
  },
  "language_info": {
   "codemirror_mode": {
    "name": "ipython",
    "version": 3
   },
   "file_extension": ".py",
   "mimetype": "text/x-python",
   "name": "python",
   "nbconvert_exporter": "python",
   "pygments_lexer": "ipython3",
   "version": "3.7.4"
  }
 },
 "nbformat": 4,
 "nbformat_minor": 2
}
