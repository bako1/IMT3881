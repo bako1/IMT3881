{
 "cells": [
  {
   "cell_type": "markdown",
   "metadata": {},
   "source": [
    "# Arbeidskrav 2: numerisk integrasjon\n",
    "\n",
    "Implementer rektangelmetoden definert i oppgave 3.8 i PCP som en funksjon `rektangel(f, a, b, n, pos='venstre')` i modulen `integrasjon`. Posisjonsargumentet skal kunne ta verdiene `venstre`, `høyre` og `midt`. Beregn integralet av feilfunksjonen under for ulike verdier av `pos` og `n`. Funksjonen skal dokumenteres med en ordentlig docstring og testes med passende unittester."
   ]
  },
  {
   "cell_type": "code",
   "execution_count": 1,
   "metadata": {},
   "outputs": [],
   "source": [
    "def f_feilanalyse(x):\n",
    "    return (1 + x) * np.exp(x)"
   ]
  },
  {
   "cell_type": "markdown",
   "metadata": {},
   "source": [
    "Lag tabeller for feilanalyse av `rektangel`-funksjonen tilsvarende dem vist i eksempelet for `venste`, `høyre` og `midt`. Hvilken metode ser ut til å være mest nøyaktig?"
   ]
  },
  {
   "cell_type": "code",
   "execution_count": null,
   "metadata": {},
   "outputs": [],
   "source": []
  },
  {
   "cell_type": "markdown",
   "metadata": {},
   "source": [
    "Definer en ny feilanalysefunksjon som du kjenner integralet av, og gjennomfør feilanalysene over for denne. Er det stadig samme metode som kommer best ut?"
   ]
  },
  {
   "cell_type": "code",
   "execution_count": null,
   "metadata": {},
   "outputs": [],
   "source": []
  }
 ],
 "metadata": {
  "kernelspec": {
   "display_name": "Python 3",
   "language": "python",
   "name": "python3"
  },
  "language_info": {
   "codemirror_mode": {
    "name": "ipython",
    "version": 3
   },
   "file_extension": ".py",
   "mimetype": "text/x-python",
   "name": "python",
   "nbconvert_exporter": "python",
   "pygments_lexer": "ipython3",
   "version": "3.6.7"
  }
 },
 "nbformat": 4,
 "nbformat_minor": 2
}
