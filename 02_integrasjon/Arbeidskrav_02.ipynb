{
 "cells": [
  {
   "cell_type": "markdown",
   "metadata": {},
   "source": [
    "# Arbeidskrav 2: numerisk integrasjon\n",
    "\n",
    "Implementer rektangelmetoden definert i oppgave 3.8 i PCP som en funksjon `rektangel(f, a, b, n, pos='venstre')` i modulen `integrasjon`. Posisjonsargumentet skal kunne ta verdiene `venstre`, `høyre` og `midt`. Beregn integralet av feilfunksjonen under for ulike verdier av `pos` og `n`. Funksjonen skal dokumenteres med en ordentlig docstring og testes med passende unittester."
   ]
  },
  {
   "cell_type": "code",
   "execution_count": 1,
   "metadata": {},
   "outputs": [],
   "source": [
    "def f_feilanalyse(x):\n",
    "    return (1 + x) * np.exp(x)"
   ]
  },
  {
   "cell_type": "markdown",
   "metadata": {},
   "source": [
    "Lag tabeller for feilanalyse av `rektangel`-funksjonen tilsvarende dem vist i eksempelet for `venste`, `høyre` og `midt`. Hvilken metode ser ut til å være mest nøyaktig?"
   ]
  },
  {
   "cell_type": "code",
   "execution_count": 2,
   "metadata": {},
   "outputs": [
    {
     "name": "stdout",
     "output_type": "stream",
     "text": [
      "n\tvenstre\t\tmidt\t\thøyre\n",
      "------------------------------------------------\n",
      "\n",
      "1\t1.000000\t2.473082\t5.436564\n",
      "2\t1.736541\t2.654891\t3.954823\n",
      "4\t2.195716\t2.702299\t3.304857\n",
      "8\t2.449007\t2.714278\t3.003578\n",
      "16\t2.581643\t2.717280\t2.858928\n",
      "32\t2.649461\t2.718031\t2.788104\n",
      "64\t2.683746\t2.718219\t2.753068\n",
      "128\t2.700983\t2.718266\t2.735643\n",
      "256\t2.709624\t2.718278\t2.726955\n",
      "512\t2.713951\t2.718281\t2.722616\n"
     ]
    }
   ],
   "source": [
    "from integrasjon import rektangel, f_feilanalyse\n",
    "import numpy as np\n",
    "print('n\\tvenstre\\t\\tmidt\\t\\thøyre')\n",
    "print('------------------------------------------------\\n')\n",
    "for n in [2**k for k in range(10)]:\n",
    "    v= rektangel(f_feilanalyse, 0, 1,n,pos='venstre')\n",
    "    m= rektangel(f_feilanalyse, 0, 1,n,pos='midt')\n",
    "    h= rektangel(f_feilanalyse, 0, 1,n,pos='høyre')\n",
    "    print('%d\\t%f\\t%f\\t%f' % (n, v, m, h))   "
   ]
  },
  {
   "cell_type": "code",
   "execution_count": 9,
   "metadata": {
    "scrolled": true
   },
   "outputs": [
    {
     "name": "stdout",
     "output_type": "stream",
     "text": [
      "\n",
      "VENSTRE\n",
      "\n",
      "\n",
      "n\th\t\tE_h\t\tE_h/h\t\tE_h/h^2\n",
      "--------------------------------------------------------------\n",
      "\n",
      "1\t1.000000\t1.718282\t1.718282\t1.718282\n",
      "2\t0.500000\t0.981741\t1.963482\t3.926964\n",
      "4\t0.250000\t0.522566\t2.090264\t8.361054\n",
      "8\t0.125000\t0.269274\t2.154195\t17.233559\n",
      "16\t0.062500\t0.136639\t2.186229\t34.979657\n",
      "32\t0.031250\t0.068820\t2.202254\t70.472128\n",
      "64\t0.015625\t0.034535\t2.210268\t141.457136\n",
      "128\t0.007812\t0.017299\t2.214275\t283.427171\n",
      "256\t0.003906\t0.008657\t2.216278\t567.367244\n",
      "512\t0.001953\t0.004331\t2.217280\t1135.247392\n"
     ]
    }
   ],
   "source": [
    "print('\\nVENSTRE\\n\\n')\n",
    "print('n\\th\\t\\tE_h\\t\\tE_h/h\\t\\tE_h/h^2')\n",
    "print('--------------------------------------------------------------\\n')\n",
    "for n in [2**k for k in range(10)]:\n",
    "    h = 1 / n\n",
    "    E_h = np.abs(np.e - rektangel(f_feilanalyse, 0, 1, n, pos='venstre'))\n",
    "    print('%d\\t%f\\t%f\\t%f\\t%f' % (n, h, E_h,E_h/h, E_h / h**2))"
   ]
  },
  {
   "cell_type": "code",
   "execution_count": 3,
   "metadata": {},
   "outputs": [
    {
     "name": "stdout",
     "output_type": "stream",
     "text": [
      "\n",
      "\n",
      "MIDT\n",
      "\n",
      "\n",
      "n\th\t\tE_h\t\tE_h/h\t\tE_h/h^2\n",
      "-------------------------------------------------------------\n",
      "\n",
      "1\t1.000000\t0.245200\t0.245200\t0.245200\n",
      "2\t0.500000\t0.063391\t0.126782\t0.253564\n",
      "4\t0.250000\t0.015983\t0.063931\t0.255725\n",
      "8\t0.125000\t0.004004\t0.032034\t0.256270\n",
      "16\t0.062500\t0.001002\t0.016025\t0.256406\n",
      "32\t0.031250\t0.000250\t0.008014\t0.256441\n",
      "64\t0.015625\t0.000063\t0.004007\t0.256449\n",
      "128\t0.007812\t0.000016\t0.002004\t0.256451\n",
      "256\t0.003906\t0.000004\t0.001002\t0.256452\n",
      "512\t0.001953\t0.000001\t0.000501\t0.256452\n"
     ]
    }
   ],
   "source": [
    "print('\\n\\nMIDT\\n\\n')\n",
    "print('n\\th\\t\\tE_h\\t\\tE_h/h\\t\\tE_h/h^2')\n",
    "print('-------------------------------------------------------------\\n')\n",
    "for n in [2**k for k in range(10)]:\n",
    "    h = 1 / n\n",
    "    E_h = np.abs(np.e - rektangel(f_feilanalyse, 0, 1, n, pos='midt'))\n",
    "    print('%d\\t%f\\t%f\\t%f\\t%f' % (n, h, E_h,E_h/h, E_h / h**2))"
   ]
  },
  {
   "cell_type": "code",
   "execution_count": 4,
   "metadata": {},
   "outputs": [
    {
     "name": "stdout",
     "output_type": "stream",
     "text": [
      "HØYRE\n",
      "n\th\t\tE_h\t\tE_h/h\t\tE_h/h^2\n",
      "-----------------------------------------------------------\n",
      "\n",
      "1\t1.000000\t2.718282\t2.718282\t2.718282\n",
      "2\t0.500000\t1.236541\t2.473082\t4.946164\n",
      "4\t0.250000\t0.586575\t2.346300\t9.385200\n",
      "8\t0.125000\t0.285296\t2.282369\t18.258950\n",
      "16\t0.062500\t0.140646\t2.250335\t36.005361\n",
      "32\t0.031250\t0.069822\t2.234310\t71.497909\n",
      "64\t0.015625\t0.034786\t2.226296\t142.482938\n",
      "128\t0.007812\t0.017362\t2.222289\t284.452977\n",
      "256\t0.003906\t0.008673\t2.220285\t568.393052\n",
      "512\t0.001953\t0.004335\t2.219284\t1136.273200\n"
     ]
    }
   ],
   "source": [
    "print('HØYRE')\n",
    "print('n\\th\\t\\tE_h\\t\\tE_h/h\\t\\tE_h/h^2')\n",
    "print('-----------------------------------------------------------\\n')\n",
    "for n in [2**k for k in range(10)]:\n",
    "    h = 1 / n\n",
    "    E_h = np.abs(np.e - rektangel(f_feilanalyse, 0, 1, n, pos='høyre'))\n",
    "    print('%d\\t%f\\t%f\\t%f\\t%f' % (n, h, E_h,E_h/h, E_h / h**2))"
   ]
  },
  {
   "cell_type": "markdown",
   "metadata": {},
   "source": [
    "Definer en ny feilanalysefunksjon som du kjenner integralet av, og gjennomfør feilanalysene over for denne. Er det stadig samme metode som kommer best ut?"
   ]
  },
  {
   "cell_type": "code",
   "execution_count": 8,
   "metadata": {},
   "outputs": [],
   "source": [
    "def f_feilanalyse2(x):\n",
    "    return 3*x**2"
   ]
  },
  {
   "cell_type": "code",
   "execution_count": 9,
   "metadata": {},
   "outputs": [
    {
     "name": "stdout",
     "output_type": "stream",
     "text": [
      "\n",
      "\n",
      "VENSTRE\n",
      "\n",
      "n\th\t\tE_h\t\tE_h/h\t\tE_h/h^2\n",
      "--------------------------------------------------------------\n",
      "\n",
      "1\t1.000000\t1.000000\t1.000000\t1.000000\n",
      "2\t0.500000\t0.625000\t1.250000\t2.500000\n",
      "4\t0.250000\t0.343750\t1.375000\t5.500000\n",
      "8\t0.125000\t0.179688\t1.437500\t11.500000\n",
      "16\t0.062500\t0.091797\t1.468750\t23.500000\n",
      "32\t0.031250\t0.046387\t1.484375\t47.500000\n",
      "64\t0.015625\t0.023315\t1.492188\t95.500000\n",
      "128\t0.007812\t0.011688\t1.496094\t191.500000\n",
      "256\t0.003906\t0.005852\t1.498047\t383.500000\n",
      "512\t0.001953\t0.002928\t1.499023\t767.500000\n"
     ]
    }
   ],
   "source": [
    "from math import sin, cos\n",
    "print('\\n\\nVENSTRE\\n')\n",
    "\n",
    "print('n\\th\\t\\tE_h\\t\\tE_h/h\\t\\tE_h/h^2')\n",
    "print('--------------------------------------------------------------\\n')\n",
    "for n in [2**k for k in range(10)]:\n",
    "    h = 1 / n\n",
    "    E_h = np.abs( 1- rektangel(f_feilanalyse2, 0, 1, n, pos='venstre'))\n",
    "    print('%d\\t%f\\t%f\\t%f\\t%f' % (n, h, E_h, E_h/h,E_h / h**2))"
   ]
  },
  {
   "cell_type": "code",
   "execution_count": 10,
   "metadata": {},
   "outputs": [
    {
     "name": "stdout",
     "output_type": "stream",
     "text": [
      "\n",
      "\n",
      "MIDT\n",
      "\n",
      "\n",
      "n\th\t\tE_h\t\tE_h/h\t\tE_h/h^2\n",
      "--------------------------------------------------------------\n",
      "\n",
      "1\t1.000000\t0.250000\t0.250000\t0.250000\n",
      "2\t0.500000\t0.062500\t0.125000\t0.250000\n",
      "4\t0.250000\t0.015625\t0.062500\t0.250000\n",
      "8\t0.125000\t0.003906\t0.031250\t0.250000\n",
      "16\t0.062500\t0.000977\t0.015625\t0.250000\n",
      "32\t0.031250\t0.000244\t0.007812\t0.250000\n",
      "64\t0.015625\t0.000061\t0.003906\t0.250000\n",
      "128\t0.007812\t0.000015\t0.001953\t0.250000\n",
      "256\t0.003906\t0.000004\t0.000977\t0.250000\n",
      "512\t0.001953\t0.000001\t0.000488\t0.250000\n"
     ]
    }
   ],
   "source": [
    "print('\\n\\nMIDT\\n\\n')\n",
    "print('n\\th\\t\\tE_h\\t\\tE_h/h\\t\\tE_h/h^2')\n",
    "print('--------------------------------------------------------------\\n')\n",
    "for n in [2**k for k in range(10)]:\n",
    "    h = 1 / n\n",
    "    E_h = np.abs( 1- rektangel(f_feilanalyse2, 0, 1, n, pos='midt'))\n",
    "    print('%d\\t%f\\t%f\\t%f\\t%f' % (n, h, E_h, E_h/h,E_h / h**2))"
   ]
  },
  {
   "cell_type": "code",
   "execution_count": 11,
   "metadata": {},
   "outputs": [
    {
     "name": "stdout",
     "output_type": "stream",
     "text": [
      "\n",
      "\n",
      "HØYRE\n",
      "\n",
      "\n",
      "n\th\t\tE_h\t\tE_h/h\t\tE_h/h^2\n",
      "--------------------------------------------------------------\n",
      "\n",
      "1\t1.000000\t2.000000\t2.000000\t2.000000\n",
      "2\t0.500000\t0.875000\t1.750000\t3.500000\n",
      "4\t0.250000\t0.406250\t1.625000\t6.500000\n",
      "8\t0.125000\t0.195312\t1.562500\t12.500000\n",
      "16\t0.062500\t0.095703\t1.531250\t24.500000\n",
      "32\t0.031250\t0.047363\t1.515625\t48.500000\n",
      "64\t0.015625\t0.023560\t1.507812\t96.500000\n",
      "128\t0.007812\t0.011749\t1.503906\t192.500000\n",
      "256\t0.003906\t0.005867\t1.501953\t384.500000\n",
      "512\t0.001953\t0.002932\t1.500977\t768.500000\n"
     ]
    }
   ],
   "source": [
    "print('\\n\\nHØYRE\\n\\n')\n",
    "print('n\\th\\t\\tE_h\\t\\tE_h/h\\t\\tE_h/h^2')\n",
    "print('--------------------------------------------------------------\\n')\n",
    "for n in [2**k for k in range(10)]:\n",
    "    h = 1 / n\n",
    "    E_h = np.abs( 1- rektangel(f_feilanalyse2, 0, 1, n, pos='høyre'))\n",
    "    print('%d\\t%f\\t%f\\t%f\\t%f' % (n, h, E_h, E_h/h,E_h / h**2))"
   ]
  },
  {
   "cell_type": "markdown",
   "metadata": {},
   "source": [
    "# Konklusjon\n",
    "\n",
    "I både f_feilanalyse1 og f_feilanalyse2 funksjoner E_h/h^2 mer konstant. Dette betyr at feilen mynker rasker på midtpuktet enn høyre og ventre punktsmetode. \n",
    "Derfor kan vi konludere at midt punkt metoden er den beste metoden."
   ]
  },
  {
   "cell_type": "code",
   "execution_count": null,
   "metadata": {},
   "outputs": [],
   "source": []
  }
 ],
 "metadata": {
  "kernelspec": {
   "display_name": "Python 3",
   "language": "python",
   "name": "python3"
  },
  "language_info": {
   "codemirror_mode": {
    "name": "ipython",
    "version": 3
   },
   "file_extension": ".py",
   "mimetype": "text/x-python",
   "name": "python",
   "nbconvert_exporter": "python",
   "pygments_lexer": "ipython3",
   "version": "3.7.4"
  }
 },
 "nbformat": 4,
 "nbformat_minor": 2
}
