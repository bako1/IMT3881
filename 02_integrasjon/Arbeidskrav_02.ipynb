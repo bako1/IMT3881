{
 "cells": [
  {
   "cell_type": "markdown",
   "metadata": {},
   "source": [
    "# Arbeidskrav 2: numerisk integrasjon\n",
    "\n",
    "Implementer rektangelmetoden definert i oppgave 3.8 i PCP som en funksjon `rektangel(f, a, b, n, pos='venstre')` i modulen `integrasjon`. Posisjonsargumentet skal kunne ta verdiene `venstre`, `høyre` og `midt`. Beregn integralet av feilfunksjonen under for ulike verdier av `pos` og `n`. Funksjonen skal dokumenteres med en ordentlig docstring og testes med passende unittester."
   ]
  },
  {
   "cell_type": "code",
   "execution_count": 1,
   "metadata": {},
   "outputs": [],
   "source": [
    "def f_feilanalyse(x):\n",
    "    return (1 + x) * np.exp(x)"
   ]
  },
  {
   "cell_type": "markdown",
   "metadata": {},
   "source": [
    "Lag tabeller for feilanalyse av `rektangel`-funksjonen tilsvarende dem vist i eksempelet for `venste`, `høyre` og `midt`. Hvilken metode ser ut til å være mest nøyaktig?"
   ]
  },
  {
   "cell_type": "code",
   "execution_count": 1,
   "metadata": {},
   "outputs": [
    {
     "name": "stdout",
     "output_type": "stream",
     "text": [
      "n\tvenstre\t\tmidt\t\thøyre\n",
      "------------------------------------------------\n",
      "\n",
      "1\t1.000000\t2.473082\t5.436564\n",
      "2\t1.736541\t2.654891\t3.954823\n",
      "4\t2.195716\t2.702299\t3.304857\n",
      "8\t2.449007\t2.714278\t3.003578\n",
      "16\t2.581643\t2.717280\t2.858928\n",
      "32\t2.649461\t2.718031\t2.788104\n",
      "64\t2.683746\t2.718219\t2.753068\n",
      "128\t2.700983\t2.718266\t2.735643\n",
      "256\t2.709624\t2.718278\t2.726955\n",
      "512\t2.713951\t2.718281\t2.722616\n"
     ]
    }
   ],
   "source": [
    "from integrasjon import rektangel, f_feilanalyse\n",
    "import numpy as np\n",
    "print('n\\tvenstre\\t\\tmidt\\t\\thøyre')\n",
    "print('------------------------------------------------\\n')\n",
    "for n in [2**k for k in range(10)]:\n",
    "    v= rektangel(f_feilanalyse, 0, 1,n,pos='venstre')\n",
    "    m= rektangel(f_feilanalyse, 0, 1,n,pos='midt')\n",
    "    h= rektangel(f_feilanalyse, 0, 1,n,pos='høyre')\n",
    "    print('%d\\t%f\\t%f\\t%f' % (n, v, m, h))   "
   ]
  },
  {
   "cell_type": "code",
   "execution_count": 9,
   "metadata": {
    "scrolled": true
   },
   "outputs": [
    {
     "name": "stdout",
     "output_type": "stream",
     "text": [
      "\n",
      "VENSTRE\n",
      "\n",
      "\n",
      "n\th\t\tE_h\t\tE_h/h\t\tE_h/h^2\n",
      "--------------------------------------------------------------\n",
      "\n",
      "1\t1.000000\t1.718282\t1.718282\t1.718282\n",
      "2\t0.500000\t0.981741\t1.963482\t3.926964\n",
      "4\t0.250000\t0.522566\t2.090264\t8.361054\n",
      "8\t0.125000\t0.269274\t2.154195\t17.233559\n",
      "16\t0.062500\t0.136639\t2.186229\t34.979657\n",
      "32\t0.031250\t0.068820\t2.202254\t70.472128\n",
      "64\t0.015625\t0.034535\t2.210268\t141.457136\n",
      "128\t0.007812\t0.017299\t2.214275\t283.427171\n",
      "256\t0.003906\t0.008657\t2.216278\t567.367244\n",
      "512\t0.001953\t0.004331\t2.217280\t1135.247392\n"
     ]
    }
   ],
   "source": [
    "print('\\nVENSTRE\\n\\n')\n",
    "print('n\\th\\t\\tE_h\\t\\tE_h/h\\t\\tE_h/h^2')\n",
    "print('--------------------------------------------------------------\\n')\n",
    "for n in [2**k for k in range(10)]:\n",
    "    h = 1 / n\n",
    "    E_h = np.abs(np.e - rektangel(f_feilanalyse, 0, 1, n, pos='venstre'))\n",
    "    print('%d\\t%f\\t%f\\t%f\\t%f' % (n, h, E_h,E_h/h, E_h / h**2))"
   ]
  },
  {
   "cell_type": "code",
   "execution_count": 3,
   "metadata": {},
   "outputs": [
    {
     "name": "stdout",
     "output_type": "stream",
     "text": [
      "\n",
      "\n",
      "MIDT\n",
      "\n",
      "\n",
      "n\th\t\tE_h\t\tE_h/h\t\tE_h/h^2\n",
      "-------------------------------------------------------------\n",
      "\n",
      "1\t1.000000\t0.245200\t0.245200\t0.245200\n",
      "2\t0.500000\t0.063391\t0.126782\t0.253564\n",
      "4\t0.250000\t0.015983\t0.063931\t0.255725\n",
      "8\t0.125000\t0.004004\t0.032034\t0.256270\n",
      "16\t0.062500\t0.001002\t0.016025\t0.256406\n",
      "32\t0.031250\t0.000250\t0.008014\t0.256441\n",
      "64\t0.015625\t0.000063\t0.004007\t0.256449\n",
      "128\t0.007812\t0.000016\t0.002004\t0.256451\n",
      "256\t0.003906\t0.000004\t0.001002\t0.256452\n",
      "512\t0.001953\t0.000001\t0.000501\t0.256452\n"
     ]
    }
   ],
   "source": [
    "print('\\n\\nMIDT\\n\\n')\n",
    "print('n\\th\\t\\tE_h\\t\\tE_h/h\\t\\tE_h/h^2')\n",
    "print('-------------------------------------------------------------\\n')\n",
    "for n in [2**k for k in range(10)]:\n",
    "    h = 1 / n\n",
    "    E_h = np.abs(np.e - rektangel(f_feilanalyse, 0, 1, n, pos='midt'))\n",
    "    print('%d\\t%f\\t%f\\t%f\\t%f' % (n, h, E_h,E_h/h, E_h / h**2))"
   ]
  },
  {
   "cell_type": "code",
   "execution_count": 4,
   "metadata": {},
   "outputs": [
    {
     "name": "stdout",
     "output_type": "stream",
     "text": [
      "HØYRE\n",
      "n\th\t\tE_h\t\tE_h/h\t\tE_h/h^2\n",
      "-----------------------------------------------------------\n",
      "\n",
      "1\t1.000000\t2.718282\t2.718282\t2.718282\n",
      "2\t0.500000\t1.236541\t2.473082\t4.946164\n",
      "4\t0.250000\t0.586575\t2.346300\t9.385200\n",
      "8\t0.125000\t0.285296\t2.282369\t18.258950\n",
      "16\t0.062500\t0.140646\t2.250335\t36.005361\n",
      "32\t0.031250\t0.069822\t2.234310\t71.497909\n",
      "64\t0.015625\t0.034786\t2.226296\t142.482938\n",
      "128\t0.007812\t0.017362\t2.222289\t284.452977\n",
      "256\t0.003906\t0.008673\t2.220285\t568.393052\n",
      "512\t0.001953\t0.004335\t2.219284\t1136.273200\n"
     ]
    }
   ],
   "source": [
    "print('HØYRE')\n",
    "print('n\\th\\t\\tE_h\\t\\tE_h/h\\t\\tE_h/h^2')\n",
    "print('-----------------------------------------------------------\\n')\n",
    "for n in [2**k for k in range(10)]:\n",
    "    h = 1 / n\n",
    "    E_h = np.abs(np.e - rektangel(f_feilanalyse, 0, 1, n, pos='høyre'))\n",
    "    print('%d\\t%f\\t%f\\t%f\\t%f' % (n, h, E_h,E_h/h, E_h / h**2))"
   ]
  },
  {
   "cell_type": "markdown",
   "metadata": {},
   "source": [
    "Definer en ny feilanalysefunksjon som du kjenner integralet av, og gjennomfør feilanalysene over for denne. Er det stadig samme metode som kommer best ut?"
   ]
  },
  {
   "cell_type": "code",
   "execution_count": 5,
   "metadata": {},
   "outputs": [],
   "source": [
    "def f_feilanalyse2(x):\n",
    "    return x*np.sin(x)+np.cos(x)"
   ]
  },
  {
   "cell_type": "code",
   "execution_count": 6,
   "metadata": {},
   "outputs": [
    {
     "name": "stdout",
     "output_type": "stream",
     "text": [
      "\n",
      "\n",
      "VENSTRE\n",
      "\n",
      "n\th\t\tE_h\t\tE_h/h\t\tE_h/h^2\n",
      "--------------------------------------------------------------\n",
      "\n",
      "1\t1.000000\t3.000000\t3.000000\t3.000000\n",
      "2\t0.500000\t3.058648\t6.117295\t12.234591\n",
      "4\t0.250000\t3.097744\t12.390977\t49.563907\n",
      "8\t0.125000\t3.119483\t24.955865\t199.646919\n",
      "16\t0.062500\t3.130885\t50.094163\t801.506605\n",
      "32\t0.031250\t3.136718\t100.374990\t3211.999671\n",
      "64\t0.015625\t3.139668\t200.938755\t12860.080343\n",
      "128\t0.007812\t3.141151\t402.067342\t51464.619786\n",
      "256\t0.003906\t3.141895\t804.325043\t205907.211047\n",
      "512\t0.001953\t3.142267\t1608.840709\t823726.443076\n"
     ]
    }
   ],
   "source": [
    "from math import sin, cos\n",
    "print('\\n\\nVENSTRE\\n')\n",
    "\n",
    "print('n\\th\\t\\tE_h\\t\\tE_h/h\\t\\tE_h/h^2')\n",
    "print('--------------------------------------------------------------\\n')\n",
    "for n in [2**k for k in range(10)]:\n",
    "    h = 1 / n\n",
    "    exatc=((np.pi*sin(np.pi))+np.cos(np.pi))-cos(0)\n",
    "    E_h = np.abs( exatc- rektangel(f_feilanalyse2, 0, 1, n, pos='venstre'))\n",
    "    print('%d\\t%f\\t%f\\t%f\\t%f' % (n, h, E_h, E_h/h,E_h / h**2))"
   ]
  },
  {
   "cell_type": "code",
   "execution_count": 7,
   "metadata": {},
   "outputs": [
    {
     "name": "stdout",
     "output_type": "stream",
     "text": [
      "\n",
      "\n",
      "MIDT\n",
      "\n",
      "\n",
      "n\th\t\tE_h\t\tE_h/h\t\tE_h/h^2\n",
      "--------------------------------------------------------------\n",
      "\n",
      "1\t1.000000\t3.117295\t3.117295\t3.117295\n",
      "2\t0.500000\t3.136841\t6.273681\t12.547363\n",
      "4\t0.250000\t3.141222\t12.564888\t50.259553\n",
      "8\t0.125000\t3.142287\t25.138298\t201.106384\n",
      "16\t0.062500\t3.142552\t50.280827\t804.493231\n",
      "32\t0.031250\t3.142618\t100.563766\t3218.040500\n",
      "64\t0.015625\t3.142634\t201.128587\t12872.229549\n",
      "128\t0.007812\t3.142638\t402.257701\t51488.985738\n",
      "256\t0.003906\t3.142639\t804.515666\t205956.010491\n",
      "512\t0.001953\t3.142640\t1609.031464\t823824.109501\n"
     ]
    }
   ],
   "source": [
    "print('\\n\\nMIDT\\n\\n')\n",
    "print('n\\th\\t\\tE_h\\t\\tE_h/h\\t\\tE_h/h^2')\n",
    "print('--------------------------------------------------------------\\n')\n",
    "for n in [2**k for k in range(10)]:\n",
    "    h = 1 / n\n",
    "    exatc=((np.pi*sin(np.pi))+np.cos(np.pi))-cos(0)\n",
    "    E_h = np.abs( exatc- rektangel(f_feilanalyse2, 0, 1, n, pos='midt'))\n",
    "    print('%d\\t%f\\t%f\\t%f\\t%f' % (n, h, E_h, E_h/h,E_h / h**2))"
   ]
  },
  {
   "cell_type": "code",
   "execution_count": 8,
   "metadata": {},
   "outputs": [
    {
     "name": "stdout",
     "output_type": "stream",
     "text": [
      "\n",
      "\n",
      "HØYRE\n",
      "\n",
      "\n",
      "n\th\t\tE_h\t\tE_h/h\t\tE_h/h^2\n",
      "--------------------------------------------------------------\n",
      "\n",
      "1\t1.000000\t3.381773\t3.381773\t3.381773\n",
      "2\t0.500000\t3.249534\t6.499069\t12.998137\n",
      "4\t0.250000\t3.193187\t12.772750\t51.091000\n",
      "8\t0.125000\t3.167205\t25.337638\t202.701105\n",
      "16\t0.062500\t3.154746\t50.475936\t807.614978\n",
      "32\t0.031250\t3.148649\t100.756763\t3224.216417\n",
      "64\t0.015625\t3.145633\t201.320529\t12884.513834\n",
      "128\t0.007812\t3.144134\t402.449115\t51513.486767\n",
      "256\t0.003906\t3.143386\t804.706816\t206004.945010\n",
      "512\t0.001953\t3.143013\t1609.222482\t823921.911001\n"
     ]
    }
   ],
   "source": [
    "print('\\n\\nHØYRE\\n\\n')\n",
    "print('n\\th\\t\\tE_h\\t\\tE_h/h\\t\\tE_h/h^2')\n",
    "print('--------------------------------------------------------------\\n')\n",
    "for n in [2**k for k in range(10)]:\n",
    "    h = 1 / n\n",
    "    exatc=((np.pi*sin(np.pi))+np.cos(np.pi))-cos(0)\n",
    "    E_h = np.abs( exatc- rektangel(f_feilanalyse2, 0, 1, n, pos='høyre'))\n",
    "    print('%d\\t%f\\t%f\\t%f\\t%f' % (n, h, E_h, E_h/h,E_h / h**2))"
   ]
  },
  {
   "cell_type": "code",
   "execution_count": null,
   "metadata": {},
   "outputs": [],
   "source": []
  }
 ],
 "metadata": {
  "kernelspec": {
   "display_name": "Python 3",
   "language": "python",
   "name": "python3"
  },
  "language_info": {
   "codemirror_mode": {
    "name": "ipython",
    "version": 3
   },
   "file_extension": ".py",
   "mimetype": "text/x-python",
   "name": "python",
   "nbconvert_exporter": "python",
   "pygments_lexer": "ipython3",
   "version": "3.7.4"
  }
 },
 "nbformat": 4,
 "nbformat_minor": 2
}
