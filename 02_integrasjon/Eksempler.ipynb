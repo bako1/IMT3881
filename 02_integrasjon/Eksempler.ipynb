{
 "cells": [
  {
   "cell_type": "markdown",
   "metadata": {},
   "source": [
    "# Numerisk integrasjon\n",
    "\n",
    "Tilnærmelse av et integral med arealet av ett trapes er gitt ved\n",
    "$$\n",
    "\\int_a^b f(x) \\, dx \\approx \\frac{1}{2} (b - a) (f(a) + f(b)).\n",
    "$$\n",
    "Dette er implementert i funksjonen `ett_trapes` i modulen `integrasjon`. Tester med «bagel and juice»-funksjonen\n",
    "$$\n",
    "f(x) = \\frac{1}{20\\sqrt{2\\pi}} \\exp\\left(-\\frac{(x - 300)^2}{2\\cdot 20^2}\\right).\n",
    "$$"
   ]
  },
  {
   "cell_type": "code",
   "execution_count": 7,
   "metadata": {},
   "outputs": [
    {
     "name": "stdout",
     "output_type": "stream",
     "text": [
      "Ett trapes: 0.3963449070504934\n"
     ]
    }
   ],
   "source": [
    "import numpy as np\n",
    "import integrasjon\n",
    "\n",
    "def f(x):\n",
    "    return np.exp(-(x - 300)**2 / (2 * 20**2)) / (20 * np.sqrt(2 * np.pi))\n",
    "\n",
    "print('Ett trapes: ' + str(integrasjon.ett_trapes(f, 300, 330)))"
   ]
  },
  {
   "cell_type": "markdown",
   "metadata": {},
   "source": [
    "Tilnærmelse med to trapeser er gitt ved\n",
    "$$\n",
    "\\int_a^b f(x) \\, dx \\approx \\frac{1}{4} (b - a) (f(a) + 2f(c) + f(b)).\n",
    "$$\n",
    "Dette er implementert i funksjonen `to_trapeser` i modulen `integrasjon`. Tester med samme funksjon."
   ]
  },
  {
   "cell_type": "code",
   "execution_count": 8,
   "metadata": {},
   "outputs": [
    {
     "name": "stdout",
     "output_type": "stream",
     "text": [
      "To trapeser: 0.42402552764135\n"
     ]
    }
   ],
   "source": [
    "print('To trapeser: ' + str(integrasjon.to_trapeser(f, 300, 330)))"
   ]
  },
  {
   "cell_type": "markdown",
   "metadata": {},
   "source": [
    "Generalisering til $n$ trapeser gir\n",
    "$$\n",
    "\\int_a^b f(x) \\, dx \\approx h \\left[\\frac12 f(x_0) + \\sum_{i=1}^{n - 1} f(x_i) + \\frac12 f(x_n) \\right].\n",
    "$$\n",
    "Dette er implementert i funksjonen `n_trapeser` i modulen `integrasjon`. Tester med samme funksjon."
   ]
  },
  {
   "cell_type": "code",
   "execution_count": 3,
   "metadata": {},
   "outputs": [
    {
     "name": "stdout",
     "output_type": "stream",
     "text": [
      "10 trapeser: 0.4328284282227671\n"
     ]
    }
   ],
   "source": [
    "print('10 trapeser: ' + str(integrasjon.n_trapeser(f, 300, 330, 10)))"
   ]
  },
  {
   "cell_type": "markdown",
   "metadata": {},
   "source": [
    "Konvergens av løsningen:"
   ]
  },
  {
   "cell_type": "code",
   "execution_count": 9,
   "metadata": {},
   "outputs": [
    {
     "name": "stdout",
     "output_type": "stream",
     "text": [
      "   1 trapes  : 0.3963449070504934\n",
      "   2 trapeser: 0.42402552764135\n",
      "  10 trapeser: 0.4328284282227671\n",
      " 100 trapeser: 0.433189156038519\n",
      "1000 trapeser: 0.43319276230431714\n"
     ]
    }
   ],
   "source": [
    "print('   1 trapes  : ' + str(integrasjon.ett_trapes(f, 300, 330)))\n",
    "print('   2 trapeser: ' + str(integrasjon.to_trapeser(f, 300, 330)))\n",
    "print('  10 trapeser: ' + str(integrasjon.n_trapeser(f, 300, 330, 10)))\n",
    "print(' 100 trapeser: ' + str(integrasjon.n_trapeser(f, 300, 330, 100)))\n",
    "print('1000 trapeser: ' + str(integrasjon.n_trapeser(f, 300, 330, 1000)))"
   ]
  },
  {
   "cell_type": "markdown",
   "metadata": {},
   "source": [
    "Til sammenligning gir den funksjonen `quad` i `scipy`-biblioteket"
   ]
  },
  {
   "cell_type": "code",
   "execution_count": 6,
   "metadata": {},
   "outputs": [
    {
     "name": "stdout",
     "output_type": "stream",
     "text": [
      "scipy.quad     : 0.4331927987311419\n"
     ]
    }
   ],
   "source": [
    "from scipy.integrate import quad\n",
    "print('scipy.quad     : ' + str(quad(f, 300, 330)[0]))"
   ]
  },
  {
   "cell_type": "markdown",
   "metadata": {},
   "source": [
    "## Feilanalyse\n",
    "\n",
    "Bruker funksjonen\n",
    "$$\n",
    "f(x) = (1 + x)e^x = (xe^x)' = F'(x)\n",
    "$$\n",
    "og beregner Tabell 1.1 i ESC."
   ]
  },
  {
   "cell_type": "code",
   "execution_count": 11,
   "metadata": {},
   "outputs": [
    {
     "name": "stdout",
     "output_type": "stream",
     "text": [
      "\n",
      "n\th\t\tE_h\t\tE_h/h^2\n",
      "1\t1.000000\t0.500000\t0.500000\n",
      "2\t0.500000\t0.127400\t0.509600\n",
      "4\t0.250000\t0.032005\t0.512073\n",
      "8\t0.125000\t0.008011\t0.512696\n",
      "16\t0.062500\t0.002003\t0.512852\n",
      "32\t0.031250\t0.000501\t0.512891\n",
      "64\t0.015625\t0.000125\t0.512901\n",
      "128\t0.007812\t0.000031\t0.512903\n",
      "256\t0.003906\t0.000008\t0.512904\n",
      "512\t0.001953\t0.000002\t0.512904\n"
     ]
    }
   ],
   "source": [
    "def f_feilanalyse(x):\n",
    "    return (1 + x) * np.exp(x)\n",
    "\n",
    "print('\\nn\\th\\t\\tE_h\\t\\tE_h/h^2')\n",
    "for n in [2**k for k in range(10)]:\n",
    "    h = 1 / n\n",
    "    E_h = np.abs(np.e - integrasjon.n_trapeser(f_feilanalyse, 0, 1, n))\n",
    "    print('%d\\t%f\\t%f\\t%f' % (n, h, E_h, E_h / h**2))"
   ]
  }
 ],
 "metadata": {
  "kernelspec": {
   "display_name": "Python 3",
   "language": "python",
   "name": "python3"
  },
  "language_info": {
   "codemirror_mode": {
    "name": "ipython",
    "version": 3
   },
   "file_extension": ".py",
   "mimetype": "text/x-python",
   "name": "python",
   "nbconvert_exporter": "python",
   "pygments_lexer": "ipython3",
   "version": "3.6.7"
  }
 },
 "nbformat": 4,
 "nbformat_minor": 2
}
