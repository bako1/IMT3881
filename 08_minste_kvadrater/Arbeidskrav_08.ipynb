{
 "cells": [
  {
   "cell_type": "markdown",
   "metadata": {},
   "source": [
    "# Arbeidskrav 8: minste kvadraters metode\n",
    "\n",
    "Oppgitt følgende tabell med bruktbilpriser (i tusen Euro) for en bil som er 1, 2, ..., 5 år gammel:\n",
    "\n",
    "| År $t_i$   |    1 |    2 |    3 |    4 |    5 |\n",
    "|------------|------|------|------|------|------|\n",
    "| Pris $y_i$ | 55.2 | 44.9 | 37.9 | 35.3 | 30.1 |\n",
    "\n",
    "Lag en linær modell for dataene og plott sammen med datapunktene."
   ]
  },
  {
   "cell_type": "code",
   "execution_count": null,
   "metadata": {},
   "outputs": [],
   "source": []
  },
  {
   "cell_type": "markdown",
   "metadata": {},
   "source": [
    "Istedenfor en lineær modell, kan vi forsøke\n",
    "$$\n",
    "p(t) = \\alpha e^{\\beta t}\n",
    "$$\n",
    "Hvis vi tar logaritmen av denne, får vi\n",
    "$$\n",
    "\\ln(p(t)) = \\ln(\\alpha) + \\beta t\n",
    "$$\n",
    "altså en linær modell. Tilpass denne til logaritmen av de opprinnelige datapunktene. Hvilken av modellene passer best til datapunktene?"
   ]
  },
  {
   "cell_type": "code",
   "execution_count": null,
   "metadata": {},
   "outputs": [],
   "source": []
  }
 ],
 "metadata": {
  "kernelspec": {
   "display_name": "Python 3",
   "language": "python",
   "name": "python3"
  },
  "language_info": {
   "codemirror_mode": {
    "name": "ipython",
    "version": 3
   },
   "file_extension": ".py",
   "mimetype": "text/x-python",
   "name": "python",
   "nbconvert_exporter": "python",
   "pygments_lexer": "ipython3",
   "version": "3.6.7"
  }
 },
 "nbformat": 4,
 "nbformat_minor": 2
}
