{
 "cells": [
  {
   "cell_type": "markdown",
   "metadata": {},
   "source": [
    "# Arbeidskrav 8: minste kvadraters metode\n",
    "\n",
    "Oppgitt følgende tabell med bruktbilpriser (i tusen Euro) for en bil som er 1, 2, ..., 5 år gammel:\n",
    "\n",
    "| År $t_i$   |    1 |    2 |    3 |    4 |    5 |\n",
    "|------------|------|------|------|------|------|\n",
    "| Pris $y_i$ | 55.2 | 44.9 | 37.9 | 35.3 | 30.1 |\n",
    "\n",
    "Lag en linær modell for dataene og plott sammen med datapunktene."
   ]
  },
  {
   "cell_type": "markdown",
   "metadata": {},
   "source": [
    "$$ \\begin {pmatrix} N & \\sum t_i \\\\ \\sum t_i & \\sum t_i^2 \\end {pmatrix}\\begin {pmatrix}\\alpha \\\\ \\beta \\end {pmatrix} =  \\begin {pmatrix} \\sum y_i \\\\ \\sum y_it_i  \\end {pmatrix}$$\n",
    "\n",
    "\n"
   ]
  },
  {
   "cell_type": "markdown",
   "metadata": {},
   "source": [
    "$$\\begin {pmatrix} 5 & 15 \\\\ 15 &  225 \\end {pmatrix} \\begin {pmatrix}\\alpha \\\\ \\beta \\end {pmatrix} = \\begin {pmatrix}203.4 \\\\ 550.4 \\end {pmatrix}$$\n"
   ]
  },
  {
   "cell_type": "code",
   "execution_count": 21,
   "metadata": {},
   "outputs": [
    {
     "data": {
      "text/plain": [
       "<matplotlib.legend.Legend at 0x7fa54d5c8c10>"
      ]
     },
     "execution_count": 21,
     "metadata": {},
     "output_type": "execute_result"
    },
    {
     "data": {
      "image/png": "[encoded data removed]",
      "text/plain": [
       "<Figure size 432x288 with 1 Axes>"
      ]
     },
     "metadata": {
      "needs_background": "light"
     },
     "output_type": "display_data"
    }
   ],
   "source": [
    "import numpy as np\n",
    "import matplotlib.pyplot as plt\n",
    "%matplotlib inline\n",
    "\n",
    "\n",
    "# Lineær\n",
    "\n",
    "tid=np.arange(1,6)\n",
    "pris=np.array([55.2,44.9,37.9,35.3,30.1])\n",
    "N = np.shape(pris)[0]\n",
    "tid1_sum=tid.sum()\n",
    "pris_sum=pris.sum()\n",
    "tid2sum = (tid**2).sum()\n",
    "pris_tid_sum = (pris*tid).sum()\n",
    "\n",
    "A = np.array([[N,tid1_sum],[tid1_sum,tid2sum]])\n",
    "b = np.array([pris_sum, pris_tid_sum])\n",
    "\n",
    "\n",
    "\n",
    "\n",
    "koeff = np.linalg.solve(A, b)\n",
    "\n",
    "p_av_t=koeff[0] + koeff[1] * tid\n",
    "\n",
    "ln = (np.log(koeff[0])) + koeff[1] * tid\n",
    "\n",
    "\n",
    "# Plot\n",
    "\n",
    "plt.plot(tid, pris, 'o')\n",
    "plt.plot(tid, p_av_t)\n",
    "\n",
    "plt.legend([\"y_i\",\"p(t)\",\"ln\"])\n"
   ]
  },
  {
   "cell_type": "markdown",
   "metadata": {},
   "source": [
    "Istedenfor en lineær modell, kan vi forsøke\n",
    "$$\n",
    "p(t) = \\alpha e^{\\beta t}\n",
    "$$\n",
    "Hvis vi tar logaritmen av denne, får vi\n",
    "$$\n",
    "\\ln(p(t)) = \\ln(\\alpha) + \\beta t\n",
    "$$\n",
    "altså en linær modell. Tilpass denne til logaritmen av de opprinnelige datapunktene. Hvilken av modellene passer best til datapunktene?"
   ]
  },
  {
   "cell_type": "code",
   "execution_count": 26,
   "metadata": {},
   "outputs": [
    {
     "data": {
      "text/plain": [
       "<matplotlib.legend.Legend at 0x7fa54d3c3b10>"
      ]
     },
     "execution_count": 26,
     "metadata": {},
     "output_type": "execute_result"
    },
    {
     "data": {
      "image/png": "[encoded data removed]",
      "text/plain": [
       "<Figure size 432x288 with 1 Axes>"
      ]
     },
     "metadata": {
      "needs_background": "light"
     },
     "output_type": "display_data"
    }
   ],
   "source": [
    "\n",
    "tid=np.arange(1,6)\n",
    "ln_pris=np.log(np.array([55.2,44.9,37.9,35.3,30.1]))\n",
    "N = np.shape(ln_pris)[0]\n",
    "tid1_sum=tid.sum()\n",
    "ln_pris_sum=ln_pris.sum()\n",
    "tid2sum = (tid**2).sum()\n",
    "ln_pris_tid_sum = (ln_pris*tid).sum()\n",
    "\n",
    "c = np.array([[N,tid1_sum],[tid1_sum,tid2sum]])\n",
    "d = np.array([ln_pris_sum, ln_pris_tid_sum])\n",
    "\n",
    "\n",
    "\n",
    "\n",
    "ln_koeff = np.linalg.solve(c, d)\n",
    "\n",
    "ln_p_av_t=ln_koeff[0] + ln_koeff[1] * tid\n",
    "\n",
    "plt.plot(tid, pris, 'o')\n",
    "plt.plot(tid, p_av_t)\n",
    "plt.plot(tid,np.exp(ln_p_av_t))\n",
    "plt.legend([\"y_i\",\"p(t)\",\"ln(p(t))\"])\n",
    "\n",
    "\n",
    "\n"
   ]
  },
  {
   "cell_type": "code",
   "execution_count": 41,
   "metadata": {},
   "outputs": [
    {
     "name": "stdout",
     "output_type": "stream",
     "text": [
      "9.08000000000003\n",
      "6.226926266613649\n"
     ]
    }
   ],
   "source": [
    "E_Linear = abs(pris - p_av_t).sum()\n",
    "E_ln=abs(pris - np.exp(ln_p_av_t)).sum()\n",
    "print(E_Linear)\n",
    "print(E_ln)\n"
   ]
  },
  {
   "cell_type": "markdown",
   "metadata": {},
   "source": [
    "Å tilpasse datapunktene til logaritmen \n",
    "passer best."
   ]
  },
  {
   "cell_type": "code",
   "execution_count": null,
   "metadata": {},
   "outputs": [],
   "source": []
  }
 ],
 "metadata": {
  "kernelspec": {
   "display_name": "Python 3",
   "language": "python",
   "name": "python3"
  },
  "language_info": {
   "codemirror_mode": {
    "name": "ipython",
    "version": 3
   },
   "file_extension": ".py",
   "mimetype": "text/x-python",
   "name": "python",
   "nbconvert_exporter": "python",
   "pygments_lexer": "ipython3",
   "version": "3.7.4"
  }
 },
 "nbformat": 4,
 "nbformat_minor": 2
}
