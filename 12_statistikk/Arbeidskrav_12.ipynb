{
 "cells": [
  {
   "cell_type": "markdown",
   "metadata": {},
   "source": [
    "# Arbeidskrav 12: statistikk\n",
    "\n",
    "Filen `demosaicing.csv` inneholder data fra en analyse av kvaliteten til ulike demosaicing-algoritmer for fargebilder. Kvaliteten er målt på ulike måter, vi skal her se kun på metoden PSNRAll, som regner ut PSNR (peak signal to noise ratio) på tvers av alle tre fargekanalene R, G og B. PSRN er slik at høyere verdi er bedre.\n",
    "\n",
    "Les inn filen med `pandas` og bli kjent med innholdet (kolonnene)."
   ]
  },
  {
   "cell_type": "code",
   "execution_count": null,
   "metadata": {},
   "outputs": [],
   "source": []
  },
  {
   "cell_type": "markdown",
   "metadata": {},
   "source": [
    "Gjør linære regresjonsanalyser for å finne ut hvordan PSNRAll varierer med demosaicing-algorithme (`method`), mosaikk (`mosaic`), bilde (`image`) og kombinasjoner av disse."
   ]
  },
  {
   "cell_type": "code",
   "execution_count": null,
   "metadata": {},
   "outputs": [],
   "source": []
  },
  {
   "cell_type": "markdown",
   "metadata": {},
   "source": [
    "Gjør minst én parret ikke-parametrisk hypotesetest for å sjekke om funn fra den lineære regresjonsanalysen stemmer."
   ]
  },
  {
   "cell_type": "code",
   "execution_count": null,
   "metadata": {},
   "outputs": [],
   "source": []
  }
 ],
 "metadata": {
  "kernelspec": {
   "display_name": "Python 3",
   "language": "python",
   "name": "python3"
  },
  "language_info": {
   "codemirror_mode": {
    "name": "ipython",
    "version": 3
   },
   "file_extension": ".py",
   "mimetype": "text/x-python",
   "name": "python",
   "nbconvert_exporter": "python",
   "pygments_lexer": "ipython3",
   "version": "3.6.7"
  }
 },
 "nbformat": 4,
 "nbformat_minor": 2
}
