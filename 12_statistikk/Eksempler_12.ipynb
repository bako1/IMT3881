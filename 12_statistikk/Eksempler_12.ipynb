{
 "cells": [
  {
   "cell_type": "markdown",
   "metadata": {},
   "source": [
    "# Statistikk\n",
    "\n",
    "## Pandas\n",
    "\n",
    "Se gjennomgangen i\n",
    "\n",
    "* https://github.com/ifarup/pandas-demo\n",
    "\n",
    "## Scipy\n",
    "\n",
    "Se gjennomgangen i\n",
    "\n",
    "* https://scipy-lectures.org/packages/statistics/index.html"
   ]
  }
 ],
 "metadata": {
  "kernelspec": {
   "display_name": "Python 3",
   "language": "python",
   "name": "python3"
  },
  "language_info": {
   "codemirror_mode": {
    "name": "ipython",
    "version": 3
   },
   "file_extension": ".py",
   "mimetype": "text/x-python",
   "name": "python",
   "nbconvert_exporter": "python",
   "pygments_lexer": "ipython3",
   "version": "3.6.7"
  }
 },
 "nbformat": 4,
 "nbformat_minor": 2
}
